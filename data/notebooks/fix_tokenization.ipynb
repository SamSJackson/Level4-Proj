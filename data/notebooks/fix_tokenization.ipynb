{
 "cells": [
  {
   "cell_type": "code",
   "execution_count": 1,
   "id": "acd6a948-badf-4175-9aff-9cfd609b92b4",
   "metadata": {
    "ExecuteTime": {
     "end_time": "2023-12-09T15:20:56.785926800Z",
     "start_time": "2023-12-09T15:20:53.113418900Z"
    }
   },
   "outputs": [],
   "source": [
    "import torch\n",
    "import pandas as pd\n",
    "import numpy as np \n",
    "from transformers import (\n",
    "    AutoModelForSeq2SeqLM,\n",
    "    AutoTokenizer,\n",
    ")\n",
    "from datasets import load_dataset"
   ]
  },
  {
   "cell_type": "code",
   "execution_count": 5,
   "outputs": [],
   "source": [
    "train_path = \"../prepared/train/par3-dipper-tiny/train_combined_sents_1.csv\"\n",
    "valid_path = \"../prepared/validation/par3-dipper-tiny/validation_combined_sents_1.csv\""
   ],
   "metadata": {
    "collapsed": false,
    "ExecuteTime": {
     "end_time": "2023-12-09T15:21:54.840889400Z",
     "start_time": "2023-12-09T15:21:54.838892700Z"
    }
   },
   "id": "51973824c0e4778a"
  },
  {
   "cell_type": "code",
   "execution_count": 8,
   "outputs": [],
   "source": [
    "train_ds = load_dataset('csv', data_files=train_path)['train']\n",
    "valid_ds = load_dataset('csv', data_files=valid_path)['train']"
   ],
   "metadata": {
    "collapsed": false,
    "ExecuteTime": {
     "end_time": "2023-12-09T15:25:56.616025400Z",
     "start_time": "2023-12-09T15:25:55.262572100Z"
    }
   },
   "id": "33afd259f7b73f80"
  },
  {
   "cell_type": "code",
   "execution_count": 10,
   "outputs": [
    {
     "data": {
      "text/plain": "Dataset({\n    features: ['input_text', 'target_text'],\n    num_rows: 200\n})"
     },
     "execution_count": 10,
     "metadata": {},
     "output_type": "execute_result"
    }
   ],
   "source": [
    "train_ds"
   ],
   "metadata": {
    "collapsed": false,
    "ExecuteTime": {
     "end_time": "2023-12-09T15:26:02.303689100Z",
     "start_time": "2023-12-09T15:26:02.302183900Z"
    }
   },
   "id": "f713cdaee8f35737"
  },
  {
   "cell_type": "code",
   "execution_count": null,
   "outputs": [],
   "source": [],
   "metadata": {
    "collapsed": false
   },
   "id": "5ad3e2df7684210f"
  }
 ],
 "metadata": {
  "kernelspec": {
   "display_name": "Python 3 (ipykernel)",
   "language": "python",
   "name": "python3"
  },
  "language_info": {
   "codemirror_mode": {
    "name": "ipython",
    "version": 3
   },
   "file_extension": ".py",
   "mimetype": "text/x-python",
   "name": "python",
   "nbconvert_exporter": "python",
   "pygments_lexer": "ipython3",
   "version": "3.11.5"
  }
 },
 "nbformat": 4,
 "nbformat_minor": 5
}
