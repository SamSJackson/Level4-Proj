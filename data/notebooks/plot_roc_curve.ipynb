{
 "cells": [
  {
   "cell_type": "code",
   "execution_count": 37,
   "id": "6ecc57ee",
   "metadata": {},
   "outputs": [],
   "source": [
    "import pandas as pd\n",
    "import matplotlib.pyplot as plt, seaborn as sns\n",
    "import numpy as np\n",
    "from sklearn.metrics import roc_curve, auc, RocCurveDisplay"
   ]
  },
  {
   "cell_type": "code",
   "execution_count": 2,
   "id": "9ddfc9dd",
   "metadata": {},
   "outputs": [],
   "source": [
    "path = \"../processed/evaluated/evaluated_448_05_03_2024.csv\"\n",
    "df = pd.read_csv(path)"
   ]
  },
  {
   "cell_type": "code",
   "execution_count": 3,
   "id": "0849e229",
   "metadata": {},
   "outputs": [],
   "source": [
    "z_threshold = 4.0\n",
    "# Need to binary classify the results "
   ]
  },
  {
   "cell_type": "code",
   "execution_count": 4,
   "id": "8d579370",
   "metadata": {},
   "outputs": [],
   "source": [
    "def gen_base_df(full_df):\n",
    "    base_wmark_df = full_df[[\"kgw-watermarked\", \"kgw-wm-zscore\"]].copy()\n",
    "    base_wmark_df[\"watermarked\"] = [True for _ in range(len(base_wmark_df))]\n",
    "    base_wmark_df = base_wmark_df.rename(columns={\"kgw-watermarked\": \"text\", \"kgw-wm-zscore\": \"z-score\"})\n",
    "\n",
    "    non_wmark_df = full_df[[\"non-watermarked\", \"non-wm-zscore\"]].copy()\n",
    "    non_wmark_df[\"watermarked\"] = [False for _ in range(len(non_wmark_df))]\n",
    "    non_wmark_df = non_wmark_df.rename(columns={\"non-watermarked\": \"text\", \"non-wm-zscore\": \"z-score\"})\n",
    "    \n",
    "    bc_df = pd.concat([base_wmark_df, non_wmark_df])\n",
    "    bc_df['watermark-detected'] = bc_df.apply(lambda x: x['z-score'] > z_threshold, axis=1)\n",
    "    return bc_df"
   ]
  },
  {
   "cell_type": "code",
   "execution_count": 13,
   "id": "33d71c2b-2502-4312-ad75-c15cfbab3021",
   "metadata": {},
   "outputs": [
    {
     "data": {
      "text/plain": [
       "Index(['id', 'instructions', 'text', 'kgw-watermarked', 'non-watermarked',\n",
       "       'pp-kgw-para-1', 'pp-unwatermarked-para-1', 'pp-kgw-para-2',\n",
       "       'pp-unwatermarked-para-2', 'pp-kgw-para-3', 'pp-unwatermarked-para-3',\n",
       "       'pp-kgw-sent-1', 'pp-unwatermarked-sent-1', 'pp-kgw-sent-2',\n",
       "       'pp-unwatermarked-sent-2', 'pp-kgw-sent-3', 'pp-unwatermarked-sent-3',\n",
       "       'pp-kgw-word-1', 'pp-unwatermarked-word-1', 'pp-kgw-word-2',\n",
       "       'pp-unwatermarked-word-2', 'pp-kgw-word-3', 'pp-unwatermarked-word-3',\n",
       "       'pp-para-sim-1', 'pp-para-sim-2', 'pp-para-sim-3', 'pp-sent-sim-1',\n",
       "       'pp-sent-sim-2', 'pp-sent-sim-3', 'pp-word-sim-1', 'pp-word-sim-2',\n",
       "       'pp-word-sim-3', 'kgw-wm-zscore', 'non-wm-zscore', 'kgw-para-zscore-2',\n",
       "       'kgw-para-zscore-3', 'kgw-para-zscore-1', 'nowm-para-zscore-2',\n",
       "       'nowm-para-zscore-3', 'nowm-para-zscore-1', 'kgw-sent-zscore-2',\n",
       "       'kgw-sent-zscore-3', 'kgw-sent-zscore-1', 'nowm-sent-zscore-2',\n",
       "       'nowm-sent-zscore-3', 'nowm-sent-zscore-1', 'kgw-word-zscore-2',\n",
       "       'kgw-word-zscore-3', 'kgw-word-zscore-1', 'nowm-word-zscore-2',\n",
       "       'nowm-word-zscore-3', 'nowm-word-zscore-1'],\n",
       "      dtype='object')"
      ]
     },
     "execution_count": 13,
     "metadata": {},
     "output_type": "execute_result"
    }
   ],
   "source": [
    "df.columns"
   ]
  },
  {
   "cell_type": "code",
   "execution_count": 32,
   "id": "7ed12f29",
   "metadata": {},
   "outputs": [],
   "source": [
    "def gen_paraphrase_df(full_df, pp_type=\"para\", pp_iter = 1, z_threshold = 2.0):\n",
    "    wm_col_text = f\"pp-kgw-{pp_type}-{pp_iter}\"\n",
    "    wm_col_score = f\"kgw-{pp_type}-zscore-{pp_iter}\"\n",
    "    wmark_df = full_df[[wm_col_text, wm_col_score]]\n",
    "    wmark_df = wmark_df.rename(columns={wm_col_text: \"text\", wm_col_score: \"z-score\"})\n",
    "    wmark_df[\"watermarked\"] = [True for _ in range(len(wmark_df))]\n",
    "    \n",
    "    nwmark_col_text = f\"pp-unwatermarked-{pp_type}-{pp_iter}\"\n",
    "    nwmark_col_score = f\"nowm-{pp_type}-zscore-{pp_iter}\"\n",
    "    nwmark_df = full_df[[nwmark_col_text, nwmark_col_score]]\n",
    "    nwmark_df = nwmark_df.rename(columns={nwmark_col_text: \"text\", nwmark_col_score: \"z-score\"})\n",
    "    nwmark_df[\"watermarked\"] = [False for _ in range(len(nwmark_df))]\n",
    "    \n",
    "    bc_df = pd.concat([wmark_df, nwmark_df])\n",
    "    bc_df[\"watermark-detected\"] = bc_df.apply(lambda x: x['z-score'] > z_threshold, axis=1)\n",
    "    return bc_df"
   ]
  },
  {
   "cell_type": "code",
   "execution_count": 49,
   "id": "2b465bcb",
   "metadata": {},
   "outputs": [],
   "source": [
    "image_output_path = \"../results/roc/\""
   ]
  },
  {
   "cell_type": "code",
   "execution_count": 61,
   "id": "4b300373-9d06-4f6f-86a2-95514936620c",
   "metadata": {},
   "outputs": [
    {
     "data": {
      "text/html": [
       "<div>\n",
       "<style scoped>\n",
       "    .dataframe tbody tr th:only-of-type {\n",
       "        vertical-align: middle;\n",
       "    }\n",
       "\n",
       "    .dataframe tbody tr th {\n",
       "        vertical-align: top;\n",
       "    }\n",
       "\n",
       "    .dataframe thead th {\n",
       "        text-align: right;\n",
       "    }\n",
       "</style>\n",
       "<table border=\"1\" class=\"dataframe\">\n",
       "  <thead>\n",
       "    <tr style=\"text-align: right;\">\n",
       "      <th></th>\n",
       "      <th>text</th>\n",
       "      <th>z-score</th>\n",
       "      <th>watermarked</th>\n",
       "      <th>watermark-detected</th>\n",
       "    </tr>\n",
       "  </thead>\n",
       "  <tbody>\n",
       "    <tr>\n",
       "      <th>0</th>\n",
       "      <td>title: prize other people's place: cognizance ...</td>\n",
       "      <td>3.201285</td>\n",
       "      <td>True</td>\n",
       "      <td>True</td>\n",
       "    </tr>\n",
       "    <tr>\n",
       "      <th>1</th>\n",
       "      <td>title: step out of comfort zone: The value of ...</td>\n",
       "      <td>2.199888</td>\n",
       "      <td>True</td>\n",
       "      <td>True</td>\n",
       "    </tr>\n",
       "    <tr>\n",
       "      <th>2</th>\n",
       "      <td>title: The value of patience and preciseness i...</td>\n",
       "      <td>2.867518</td>\n",
       "      <td>True</td>\n",
       "      <td>True</td>\n",
       "    </tr>\n",
       "    <tr>\n",
       "      <th>3</th>\n",
       "      <td>Title: adopt genuineness in an counterfeit ear...</td>\n",
       "      <td>3.177435</td>\n",
       "      <td>True</td>\n",
       "      <td>True</td>\n",
       "    </tr>\n",
       "    <tr>\n",
       "      <th>4</th>\n",
       "      <td>title: cultivate graphic symbol: A option or a...</td>\n",
       "      <td>5.797643</td>\n",
       "      <td>True</td>\n",
       "      <td>True</td>\n",
       "    </tr>\n",
       "    <tr>\n",
       "      <th>...</th>\n",
       "      <td>...</td>\n",
       "      <td>...</td>\n",
       "      <td>...</td>\n",
       "      <td>...</td>\n",
       "    </tr>\n",
       "    <tr>\n",
       "      <th>443</th>\n",
       "      <td>title: extend School hour: weigh the Benefits ...</td>\n",
       "      <td>3.197374</td>\n",
       "      <td>False</td>\n",
       "      <td>True</td>\n",
       "    </tr>\n",
       "    <tr>\n",
       "      <th>444</th>\n",
       "      <td>title: The Four-Day week: A New path to Econom...</td>\n",
       "      <td>-0.199681</td>\n",
       "      <td>False</td>\n",
       "      <td>False</td>\n",
       "    </tr>\n",
       "    <tr>\n",
       "      <th>445</th>\n",
       "      <td>Title: Pursuing excellence: A journeying to en...</td>\n",
       "      <td>-1.553854</td>\n",
       "      <td>False</td>\n",
       "      <td>False</td>\n",
       "    </tr>\n",
       "    <tr>\n",
       "      <th>446</th>\n",
       "      <td>title: Intergenerational bridge: A New course ...</td>\n",
       "      <td>-0.647298</td>\n",
       "      <td>False</td>\n",
       "      <td>False</td>\n",
       "    </tr>\n",
       "    <tr>\n",
       "      <th>447</th>\n",
       "      <td>title: The power of Collaboration: Benefits of...</td>\n",
       "      <td>0.193311</td>\n",
       "      <td>False</td>\n",
       "      <td>False</td>\n",
       "    </tr>\n",
       "  </tbody>\n",
       "</table>\n",
       "<p>896 rows × 4 columns</p>\n",
       "</div>"
      ],
      "text/plain": [
       "                                                  text   z-score  watermarked  \\\n",
       "0    title: prize other people's place: cognizance ...  3.201285         True   \n",
       "1    title: step out of comfort zone: The value of ...  2.199888         True   \n",
       "2    title: The value of patience and preciseness i...  2.867518         True   \n",
       "3    Title: adopt genuineness in an counterfeit ear...  3.177435         True   \n",
       "4    title: cultivate graphic symbol: A option or a...  5.797643         True   \n",
       "..                                                 ...       ...          ...   \n",
       "443  title: extend School hour: weigh the Benefits ...  3.197374        False   \n",
       "444  title: The Four-Day week: A New path to Econom... -0.199681        False   \n",
       "445  Title: Pursuing excellence: A journeying to en... -1.553854        False   \n",
       "446  title: Intergenerational bridge: A New course ... -0.647298        False   \n",
       "447  title: The power of Collaboration: Benefits of...  0.193311        False   \n",
       "\n",
       "     watermark-detected  \n",
       "0                  True  \n",
       "1                  True  \n",
       "2                  True  \n",
       "3                  True  \n",
       "4                  True  \n",
       "..                  ...  \n",
       "443                True  \n",
       "444               False  \n",
       "445               False  \n",
       "446               False  \n",
       "447               False  \n",
       "\n",
       "[896 rows x 4 columns]"
      ]
     },
     "execution_count": 61,
     "metadata": {},
     "output_type": "execute_result"
    }
   ],
   "source": [
    "test_df = gen_paraphrase_df(df, pp_type=\"word\", pp_iter=1)\n",
    "test_df"
   ]
  },
  {
   "cell_type": "code",
   "execution_count": 59,
   "id": "733bd541",
   "metadata": {},
   "outputs": [
    {
     "name": "stderr",
     "output_type": "stream",
     "text": [
      "C:\\Users\\Sam\\anaconda3\\envs\\wmark-pt\\Lib\\site-packages\\sklearn\\utils\\validation.py:605: FutureWarning: is_sparse is deprecated and will be removed in a future version. Check `isinstance(dtype, pd.SparseDtype)` instead.\n",
      "  if is_sparse(pd_dtype):\n",
      "C:\\Users\\Sam\\anaconda3\\envs\\wmark-pt\\Lib\\site-packages\\sklearn\\utils\\validation.py:614: FutureWarning: is_sparse is deprecated and will be removed in a future version. Check `isinstance(dtype, pd.SparseDtype)` instead.\n",
      "  if is_sparse(pd_dtype) or not is_extension_array_dtype(pd_dtype):\n",
      "C:\\Users\\Sam\\anaconda3\\envs\\wmark-pt\\Lib\\site-packages\\sklearn\\utils\\validation.py:605: FutureWarning: is_sparse is deprecated and will be removed in a future version. Check `isinstance(dtype, pd.SparseDtype)` instead.\n",
      "  if is_sparse(pd_dtype):\n",
      "C:\\Users\\Sam\\anaconda3\\envs\\wmark-pt\\Lib\\site-packages\\sklearn\\utils\\validation.py:614: FutureWarning: is_sparse is deprecated and will be removed in a future version. Check `isinstance(dtype, pd.SparseDtype)` instead.\n",
      "  if is_sparse(pd_dtype) or not is_extension_array_dtype(pd_dtype):\n",
      "C:\\Users\\Sam\\anaconda3\\envs\\wmark-pt\\Lib\\site-packages\\sklearn\\utils\\validation.py:605: FutureWarning: is_sparse is deprecated and will be removed in a future version. Check `isinstance(dtype, pd.SparseDtype)` instead.\n",
      "  if is_sparse(pd_dtype):\n",
      "C:\\Users\\Sam\\anaconda3\\envs\\wmark-pt\\Lib\\site-packages\\sklearn\\utils\\validation.py:614: FutureWarning: is_sparse is deprecated and will be removed in a future version. Check `isinstance(dtype, pd.SparseDtype)` instead.\n",
      "  if is_sparse(pd_dtype) or not is_extension_array_dtype(pd_dtype):\n"
     ]
    },
    {
     "data": {
      "image/png": "[encoded data removed]",
      "text/plain": [
       "<Figure size 640x480 with 1 Axes>"
      ]
     },
     "metadata": {},
     "output_type": "display_data"
    }
   ],
   "source": [
    "pp_type = \"word\"\n",
    "for i in range(1,4):\n",
    "    pp_bc_df = gen_paraphrase_df(df, pp_type=pp_type, pp_iter=i)\n",
    "    y_values, y_pred = pp_bc_df[\"watermarked\"], pp_bc_df[\"z-score\"]\n",
    "    fpr, tpr, thresholds = roc_curve(y_values, y_pred)\n",
    "    roc_auc = auc(fpr, tpr)\n",
    "    # display = RocCurveDisplay(fpr=fpr, tpr=tpr, roc_auc=roc_auc)\n",
    "    # display.plot()\n",
    "    plt.plot(fpr, tpr, linestyle='--', label=f'Paraphrased Iteration: {i} | AUC: {roc_auc:.3f}')\n",
    "\n",
    "plt.title(f\"ROC Curve - {pp_type.capitalize()} Attack - $\\delta = 5$\")\n",
    "plt.xlabel(\"False Positive Rate\")\n",
    "plt.ylabel(\"True Positive Rate\")\n",
    "plt.legend()\n",
    "\n",
    "plt.savefig(image_output_path+f\"roc-curve-{pp_type}.pdf\", format=\"pdf\", bbox_inches='tight')\n",
    "plt.show()"
   ]
  },
  {
   "cell_type": "code",
   "execution_count": null,
   "id": "abc109b9-781c-467b-9fae-b403f11eb21e",
   "metadata": {},
   "outputs": [],
   "source": []
  }
 ],
 "metadata": {
  "kernelspec": {
   "display_name": "Python 3 (ipykernel)",
   "language": "python",
   "name": "python3"
  },
  "language_info": {
   "codemirror_mode": {
    "name": "ipython",
    "version": 3
   },
   "file_extension": ".py",
   "mimetype": "text/x-python",
   "name": "python",
   "nbconvert_exporter": "python",
   "pygments_lexer": "ipython3",
   "version": "3.11.5"
  }
 },
 "nbformat": 4,
 "nbformat_minor": 5
}
