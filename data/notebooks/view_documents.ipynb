{
 "cells": [
  {
   "cell_type": "code",
   "execution_count": 3,
   "id": "0383da55-747c-498a-8da0-ce41fdf08a17",
   "metadata": {},
   "outputs": [],
   "source": [
    "import numpy as np\n",
    "import pandas as pd \n",
    "import matplotlib.pyplot as plt \n",
    "import seaborn as sns"
   ]
  },
  {
   "cell_type": "code",
   "execution_count": 9,
   "id": "a9acf9cd-1e81-4ce4-b7f7-592cfc82c7d5",
   "metadata": {},
   "outputs": [],
   "source": [
    "path = \"../processed/train/cleaned_paraphrased/cleaned_paraphrase_dipper_samples_llama-2-7b_0_09_01_2024.csv\"\n",
    "og_path = \"../processed/train/paraphrased/paraphrase_dipper_samples_llama-2-7b_251_09_01_2024.csv\""
   ]
  },
  {
   "cell_type": "code",
   "execution_count": 10,
   "id": "67de099b-5618-405f-a851-64a5d72ec7b0",
   "metadata": {},
   "outputs": [],
   "source": [
    "df = pd.read_csv(path)\n",
    "df = df.drop(columns=['Unnamed: 0'])\n",
    "\n",
    "og_df = pd.read_csv(og_path)"
   ]
  },
  {
   "cell_type": "markdown",
   "id": "5f540917-6adb-4a33-b724-033df6b7ea45",
   "metadata": {},
   "source": [
    "## Example Documents "
   ]
  },
  {
   "cell_type": "code",
   "execution_count": 12,
   "id": "dd221f92-7c8f-4dc4-9e4e-0854b4b9a998",
   "metadata": {},
   "outputs": [
    {
     "data": {
      "text/plain": [
       "0      p\n",
       "1      s\n",
       "2      b\n",
       "3      i\n",
       "4       \n",
       "      ..\n",
       "246    p\n",
       "247    e\n",
       "248    u\n",
       "249    c\n",
       "250    b\n",
       "Name: pp-kgw-1, Length: 251, dtype: object"
      ]
     },
     "execution_count": 12,
     "metadata": {},
     "output_type": "execute_result"
    }
   ],
   "source": [
    "og_df[\"pp-kgw-1\"]"
   ]
  },
  {
   "cell_type": "code",
   "execution_count": 6,
   "id": "59c74705-5170-4720-982f-d8f5b6caabea",
   "metadata": {},
   "outputs": [],
   "source": [
    "relevant_columns = [\"id\", \"content-to-sample\", \"content-actual-ending\", \"kgw-watermarked\", \"non-watermarked\"]"
   ]
  },
  {
   "cell_type": "code",
   "execution_count": 7,
   "id": "b44c7d5c-708b-4b6d-9526-d56de74c00ab",
   "metadata": {},
   "outputs": [
    {
     "ename": "ValueError",
     "evalue": "a must be greater than 0 unless no samples are taken",
     "output_type": "error",
     "traceback": [
      "\u001b[1;31m---------------------------------------------------------------------------\u001b[0m",
      "\u001b[1;31mValueError\u001b[0m                                Traceback (most recent call last)",
      "Cell \u001b[1;32mIn[7], line 1\u001b[0m\n\u001b[1;32m----> 1\u001b[0m chosen_sample \u001b[38;5;241m=\u001b[39m df\u001b[38;5;241m.\u001b[39msample(\u001b[38;5;241m1\u001b[39m)[relevant_columns]\n",
      "File \u001b[1;32m~\\anaconda3\\envs\\wmark-pt\\Lib\\site-packages\\pandas\\core\\generic.py:6029\u001b[0m, in \u001b[0;36mNDFrame.sample\u001b[1;34m(self, n, frac, replace, weights, random_state, axis, ignore_index)\u001b[0m\n\u001b[0;32m   6026\u001b[0m \u001b[38;5;28;01mif\u001b[39;00m weights \u001b[38;5;129;01mis\u001b[39;00m \u001b[38;5;129;01mnot\u001b[39;00m \u001b[38;5;28;01mNone\u001b[39;00m:\n\u001b[0;32m   6027\u001b[0m     weights \u001b[38;5;241m=\u001b[39m sample\u001b[38;5;241m.\u001b[39mpreprocess_weights(\u001b[38;5;28mself\u001b[39m, weights, axis)\n\u001b[1;32m-> 6029\u001b[0m sampled_indices \u001b[38;5;241m=\u001b[39m sample\u001b[38;5;241m.\u001b[39msample(obj_len, size, replace, weights, rs)\n\u001b[0;32m   6030\u001b[0m result \u001b[38;5;241m=\u001b[39m \u001b[38;5;28mself\u001b[39m\u001b[38;5;241m.\u001b[39mtake(sampled_indices, axis\u001b[38;5;241m=\u001b[39maxis)\n\u001b[0;32m   6032\u001b[0m \u001b[38;5;28;01mif\u001b[39;00m ignore_index:\n",
      "File \u001b[1;32m~\\anaconda3\\envs\\wmark-pt\\Lib\\site-packages\\pandas\\core\\sample.py:152\u001b[0m, in \u001b[0;36msample\u001b[1;34m(obj_len, size, replace, weights, random_state)\u001b[0m\n\u001b[0;32m    149\u001b[0m     \u001b[38;5;28;01melse\u001b[39;00m:\n\u001b[0;32m    150\u001b[0m         \u001b[38;5;28;01mraise\u001b[39;00m \u001b[38;5;167;01mValueError\u001b[39;00m(\u001b[38;5;124m\"\u001b[39m\u001b[38;5;124mInvalid weights: weights sum to zero\u001b[39m\u001b[38;5;124m\"\u001b[39m)\n\u001b[1;32m--> 152\u001b[0m \u001b[38;5;28;01mreturn\u001b[39;00m random_state\u001b[38;5;241m.\u001b[39mchoice(obj_len, size\u001b[38;5;241m=\u001b[39msize, replace\u001b[38;5;241m=\u001b[39mreplace, p\u001b[38;5;241m=\u001b[39mweights)\u001b[38;5;241m.\u001b[39mastype(\n\u001b[0;32m    153\u001b[0m     np\u001b[38;5;241m.\u001b[39mintp, copy\u001b[38;5;241m=\u001b[39m\u001b[38;5;28;01mFalse\u001b[39;00m\n\u001b[0;32m    154\u001b[0m )\n",
      "File \u001b[1;32mnumpy\\\\random\\\\mtrand.pyx:944\u001b[0m, in \u001b[0;36mnumpy.random.mtrand.RandomState.choice\u001b[1;34m()\u001b[0m\n",
      "\u001b[1;31mValueError\u001b[0m: a must be greater than 0 unless no samples are taken"
     ]
    }
   ],
   "source": [
    "chosen_sample = df.sample(1)[relevant_columns]"
   ]
  },
  {
   "cell_type": "code",
   "execution_count": 80,
   "id": "d40155ae-c767-44e2-a8ed-c73abc6168e9",
   "metadata": {},
   "outputs": [],
   "source": [
    "ids = list(chosen_sample[\"id\"])\n",
    "prompts = list(chosen_sample[\"content-to-sample\"])\n",
    "true_ending = list(chosen_sample[\"content-actual-ending\"])\n",
    "wmarked = list(chosen_sample[\"kgw-watermarked\"])\n",
    "nwmarked = list(chosen_sample[\"non-watermarked\"])"
   ]
  },
  {
   "cell_type": "code",
   "execution_count": 82,
   "id": "aba04695-756b-4d8e-8960-74a4c2aee52e",
   "metadata": {},
   "outputs": [
    {
     "data": {
      "text/plain": [
       "['989de6f7-24ae-44ef-a786-be0be5683530']"
      ]
     },
     "execution_count": 82,
     "metadata": {},
     "output_type": "execute_result"
    }
   ],
   "source": [
    "ids"
   ]
  },
  {
   "cell_type": "markdown",
   "id": "9ff653f0-6a93-4ebe-a4ad-0c76a17b8862",
   "metadata": {},
   "source": [
    "## Investigating Particular Articles "
   ]
  },
  {
   "cell_type": "code",
   "execution_count": 83,
   "id": "7bafa502-e0aa-4e29-9171-bd7afe5c43a3",
   "metadata": {},
   "outputs": [],
   "source": [
    "article_names = [\"989de6f7-24ae-44ef-a786-be0be5683530\"] "
   ]
  },
  {
   "cell_type": "code",
   "execution_count": 84,
   "id": "f0b14a65-c4ac-4ede-bf0e-8fb1de69d0bc",
   "metadata": {
    "scrolled": true
   },
   "outputs": [],
   "source": [
    "df_articles = df[df['id'].isin(article_names)]"
   ]
  },
  {
   "cell_type": "code",
   "execution_count": 85,
   "id": "d8d9ba44-a863-42dd-8ed0-62b5247611d6",
   "metadata": {},
   "outputs": [],
   "source": [
    "first_row = df_articles.iloc[0]"
   ]
  },
  {
   "cell_type": "code",
   "execution_count": 86,
   "id": "ae72afa4-af1f-47a0-9b47-7fefd774e71e",
   "metadata": {},
   "outputs": [],
   "source": [
    "def pretty_print(row):\n",
    "    prompt = row[\"content-to-sample\"]\n",
    "    actual_ending = row[\"content-actual-ending\"]\n",
    "    wm_base = row[\"kgw-watermarked\"]\n",
    "    non_wmarked = row[\"non-watermarked\"]\n",
    "    pp_1 = row[\"pp-kgw-1\"]\n",
    "    pp_2 = row[\"pp-kgw-2\"]\n",
    "    pp_3 = row[\"pp-kgw-3\"]\n",
    "    print(f\"Prompt: {prompt}\\n\")\n",
    "    print(f\"Watermark Base: {wm_base}\\n\")\n",
    "    print(f\"Non-watermarked: {non_wmarked}\")\n",
    "    print(f\"Actual Ending: {actual_ending}\\n\")\n",
    "    print(f\"First Paraphrase: {pp_1}\\n\")\n",
    "    print(f\"Second Paraphrase: {pp_2}\\n\")\n",
    "    print(f\"Third Paraphrase: {pp_3}\\n\")"
   ]
  },
  {
   "cell_type": "code",
   "execution_count": 87,
   "id": "c32ccd91-65c6-4712-b77d-f04bf6f086bd",
   "metadata": {},
   "outputs": [
    {
     "name": "stdout",
     "output_type": "stream",
     "text": [
      "Prompt: Volkswagen CEO Martin Winterkorn announced his resignation after an emergency meeting held Wednesday. Five supervisory board members met with Winterkorn on Wednesday ahead of a regularly scheduled meeting Friday. Winterkorn resigned five days after it was announced that 482,000 Volkswagens in the U.S. had illegal “defeat devices” that allowed them to cheat through emissions tests. It later came out that 11 million cars worldwide had the programming, and the company set aside more than $7 billion to pay for the ongoing scandal. As CEO I accept responsibility for the irregularities that have been found in diesel engines and have therefore\n",
      "\n",
      "Watermark Base: decided...\n",
      "UCLA Football Disqualified From Natl title contest For College Basketball Season [TSSF] » Top Sports Website Feeds says: #CommentShallNotApAll Images by Getty\n",
      "\n",
      "Non-watermarked: requested early today my separated from function as Chairman Supervisors of Group Management Board at VW\n",
      "In all likelihood this means there are some investigations going down underway – particularly since he is stepping off right now instead of giving up sooner or doing so incrementally over time rather then making such dramatic changes quickly.\n",
      "Actual Ending: requested the Supervisory Board to agree on terminating my function as CEO of the Volkswagen Group. I am doing this in the interests of the company even though I am not aware of any wrongdoing on my part. The company had shed more than $26 billion in value over the last two days in a stock free-fall. It wasn’t immediately clear who would replace Winterkorn as CEO. The post BREAKING: VW Chief Winterkorn Resigns After Emissions Scandal appeared first on The Truth About Cars .\n",
      "\n",
      "First Paraphrase: The NCAA has disallowed UCLA Football from entering the national title contest for the college basketball season, citing Getty Images and #CommentShallNotApAll.\n",
      "\n",
      "Second Paraphrase: The NCAA has cited Getty Images and #CommentShallNotApAll in its decision to exclude UCLA Football from the national title contest for the college basketball season.\n",
      "\n",
      "Third Paraphrase: UCLA Football will not compete in the national title contest for this season of college basketball, and the NCAA has referenced Getty Images and #CommentShallNotApAll in its decision.\n",
      "\n"
     ]
    }
   ],
   "source": [
    "pretty_print(first_row)"
   ]
  },
  {
   "cell_type": "code",
   "execution_count": null,
   "id": "23829ca7-4e6f-4eef-8a49-7ac523de5719",
   "metadata": {},
   "outputs": [],
   "source": []
  }
 ],
 "metadata": {
  "kernelspec": {
   "display_name": "Python 3 (ipykernel)",
   "language": "python",
   "name": "python3"
  },
  "language_info": {
   "codemirror_mode": {
    "name": "ipython",
    "version": 3
   },
   "file_extension": ".py",
   "mimetype": "text/x-python",
   "name": "python",
   "nbconvert_exporter": "python",
   "pygments_lexer": "ipython3",
   "version": "3.11.5"
  }
 },
 "nbformat": 4,
 "nbformat_minor": 5
}
