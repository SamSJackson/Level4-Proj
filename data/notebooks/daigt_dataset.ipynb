{
 "cells": [
  {
   "cell_type": "code",
   "execution_count": 1,
   "id": "fa8a4585-2753-4726-a178-5bf5c77e7424",
   "metadata": {},
   "outputs": [],
   "source": [
    "import pandas as pd \n",
    "import numpy as np \n",
    "import os "
   ]
  },
  {
   "cell_type": "code",
   "execution_count": 2,
   "id": "16c79868-38d9-4d0a-a38e-58725cfb96e4",
   "metadata": {},
   "outputs": [],
   "source": [
    "essays_path = \"../raw/llm-detect-ai-generated-text/train_essays.csv\"\n",
    "prompt_path = \"../raw/llm-detect-ai-generated-text/train_prompts.csv\"\n",
    "\n",
    "daigt_path = \"../raw/daigt/daigt_external_dataset.csv\""
   ]
  },
  {
   "cell_type": "code",
   "execution_count": 3,
   "id": "274e7ae6-3b48-4b80-ae8d-362a19911268",
   "metadata": {},
   "outputs": [],
   "source": [
    "essays_df = pd.read_csv(essays_path)\n",
    "prompt_df = pd.read_csv(prompt_path)\n",
    "\n",
    "daigt_df = pd.read_csv(daigt_path)"
   ]
  },
  {
   "cell_type": "code",
   "execution_count": 4,
   "id": "170f515f-e2e1-44ac-bfe7-db216a390850",
   "metadata": {},
   "outputs": [
    {
     "data": {
      "text/html": [
       "<div>\n",
       "<style scoped>\n",
       "    .dataframe tbody tr th:only-of-type {\n",
       "        vertical-align: middle;\n",
       "    }\n",
       "\n",
       "    .dataframe tbody tr th {\n",
       "        vertical-align: top;\n",
       "    }\n",
       "\n",
       "    .dataframe thead th {\n",
       "        text-align: right;\n",
       "    }\n",
       "</style>\n",
       "<table border=\"1\" class=\"dataframe\">\n",
       "  <thead>\n",
       "    <tr style=\"text-align: right;\">\n",
       "      <th></th>\n",
       "      <th>id</th>\n",
       "      <th>text</th>\n",
       "      <th>instructions</th>\n",
       "      <th>source_text</th>\n",
       "    </tr>\n",
       "  </thead>\n",
       "  <tbody>\n",
       "    <tr>\n",
       "      <th>0</th>\n",
       "      <td>6060D28C05B6</td>\n",
       "      <td>Some schools in United States ofter classes fr...</td>\n",
       "      <td>\\nTask: Write a persuasive essay on whether or...</td>\n",
       "      <td>\\nWhen considering the pros and cons of attend...</td>\n",
       "    </tr>\n",
       "    <tr>\n",
       "      <th>1</th>\n",
       "      <td>60623DB5DE7A</td>\n",
       "      <td>Four-day work week, a remarkable idea to conse...</td>\n",
       "      <td>\\nTask: Research the advantages and disadvanta...</td>\n",
       "      <td>\\nOne of the primary arguments for implementin...</td>\n",
       "    </tr>\n",
       "    <tr>\n",
       "      <th>2</th>\n",
       "      <td>607A39D981DE</td>\n",
       "      <td>Students and their families should consider an...</td>\n",
       "      <td>\\nTask: \\n\\n1. Talk to your parents before tak...</td>\n",
       "      <td>\\nBefore making any decisions about getting in...</td>\n",
       "    </tr>\n",
       "    <tr>\n",
       "      <th>3</th>\n",
       "      <td>60ACDFA1609E</td>\n",
       "      <td>Agree you will never grow if something beyond ...</td>\n",
       "      <td>\\nTask: Write an essay discussing the benefits...</td>\n",
       "      <td>\\nRalph Waldo Emerson once said, \"Go confident...</td>\n",
       "    </tr>\n",
       "    <tr>\n",
       "      <th>4</th>\n",
       "      <td>60AE13D3F07B</td>\n",
       "      <td>I think our character traits are formed by inf...</td>\n",
       "      <td>\\nTask: Research and discuss how character tra...</td>\n",
       "      <td>\\nHuman character traits are shaped by a wide ...</td>\n",
       "    </tr>\n",
       "    <tr>\n",
       "      <th>...</th>\n",
       "      <td>...</td>\n",
       "      <td>...</td>\n",
       "      <td>...</td>\n",
       "      <td>...</td>\n",
       "    </tr>\n",
       "    <tr>\n",
       "      <th>2416</th>\n",
       "      <td>F5FF5E9E553C</td>\n",
       "      <td>On september 2, 2015 Generic_Name was entering...</td>\n",
       "      <td>\\nTask: Research different kinds of medical pr...</td>\n",
       "      <td>\\nBecoming a surgeon requires a great deal of ...</td>\n",
       "    </tr>\n",
       "    <tr>\n",
       "      <th>2417</th>\n",
       "      <td>F60545D8271E</td>\n",
       "      <td>I think that schools must have a after school ...</td>\n",
       "      <td>\\nTask: Write an essay discussing why schools ...</td>\n",
       "      <td>\\nSchools should offer an after school homewor...</td>\n",
       "    </tr>\n",
       "    <tr>\n",
       "      <th>2418</th>\n",
       "      <td>F610B3CBF3DF</td>\n",
       "      <td>Winston Churchill once said \"success consists ...</td>\n",
       "      <td>\\nTask: Write an essay about how having a few ...</td>\n",
       "      <td>\\nIt’s human nature to be afraid to make mista...</td>\n",
       "    </tr>\n",
       "    <tr>\n",
       "      <th>2419</th>\n",
       "      <td>F610C7BCD9EC</td>\n",
       "      <td>Technology seems to be becoming more and more ...</td>\n",
       "      <td>\\nTask: \\n\\nWrite an essay exploring the pros ...</td>\n",
       "      <td>\\nOne of the main debates of 2020 for many stu...</td>\n",
       "    </tr>\n",
       "    <tr>\n",
       "      <th>2420</th>\n",
       "      <td>F6194DEBEFA7</td>\n",
       "      <td>Teenage is a part of life where everyone wants...</td>\n",
       "      <td>\\nTask: Analyze and explore the benefits of im...</td>\n",
       "      <td>\\nThe implementation of a curfew for teenagers...</td>\n",
       "    </tr>\n",
       "  </tbody>\n",
       "</table>\n",
       "<p>2421 rows × 4 columns</p>\n",
       "</div>"
      ],
      "text/plain": [
       "                id                                               text  \\\n",
       "0     6060D28C05B6  Some schools in United States ofter classes fr...   \n",
       "1     60623DB5DE7A  Four-day work week, a remarkable idea to conse...   \n",
       "2     607A39D981DE  Students and their families should consider an...   \n",
       "3     60ACDFA1609E  Agree you will never grow if something beyond ...   \n",
       "4     60AE13D3F07B  I think our character traits are formed by inf...   \n",
       "...            ...                                                ...   \n",
       "2416  F5FF5E9E553C  On september 2, 2015 Generic_Name was entering...   \n",
       "2417  F60545D8271E  I think that schools must have a after school ...   \n",
       "2418  F610B3CBF3DF  Winston Churchill once said \"success consists ...   \n",
       "2419  F610C7BCD9EC  Technology seems to be becoming more and more ...   \n",
       "2420  F6194DEBEFA7  Teenage is a part of life where everyone wants...   \n",
       "\n",
       "                                           instructions  \\\n",
       "0     \\nTask: Write a persuasive essay on whether or...   \n",
       "1     \\nTask: Research the advantages and disadvanta...   \n",
       "2     \\nTask: \\n\\n1. Talk to your parents before tak...   \n",
       "3     \\nTask: Write an essay discussing the benefits...   \n",
       "4     \\nTask: Research and discuss how character tra...   \n",
       "...                                                 ...   \n",
       "2416  \\nTask: Research different kinds of medical pr...   \n",
       "2417  \\nTask: Write an essay discussing why schools ...   \n",
       "2418  \\nTask: Write an essay about how having a few ...   \n",
       "2419  \\nTask: \\n\\nWrite an essay exploring the pros ...   \n",
       "2420  \\nTask: Analyze and explore the benefits of im...   \n",
       "\n",
       "                                            source_text  \n",
       "0     \\nWhen considering the pros and cons of attend...  \n",
       "1     \\nOne of the primary arguments for implementin...  \n",
       "2     \\nBefore making any decisions about getting in...  \n",
       "3     \\nRalph Waldo Emerson once said, \"Go confident...  \n",
       "4     \\nHuman character traits are shaped by a wide ...  \n",
       "...                                                 ...  \n",
       "2416  \\nBecoming a surgeon requires a great deal of ...  \n",
       "2417  \\nSchools should offer an after school homewor...  \n",
       "2418  \\nIt’s human nature to be afraid to make mista...  \n",
       "2419  \\nOne of the main debates of 2020 for many stu...  \n",
       "2420  \\nThe implementation of a curfew for teenagers...  \n",
       "\n",
       "[2421 rows x 4 columns]"
      ]
     },
     "execution_count": 4,
     "metadata": {},
     "output_type": "execute_result"
    }
   ],
   "source": [
    "daigt_df"
   ]
  },
  {
   "cell_type": "code",
   "execution_count": 8,
   "id": "c7afc713-2e71-429e-9d99-8620c86c779e",
   "metadata": {},
   "outputs": [],
   "source": [
    "daigt_tasks_only = daigt_df[daigt_df[\"instructions\"].str.startswith(\"\\nTask\")]\n",
    "daigt_tasks = daigt_df[['instructions', 'text']]\n",
    "daigt_tasks = daigt_tasks.rename({'text': 'human-text'})\n",
    "daigt_prompts = pd.DataFrame(daigt_tasks)"
   ]
  },
  {
   "cell_type": "code",
   "execution_count": 10,
   "id": "441ccdf5-1a1f-480b-b169-a8c45f88ef89",
   "metadata": {},
   "outputs": [
    {
     "data": {
      "text/html": [
       "<div>\n",
       "<style scoped>\n",
       "    .dataframe tbody tr th:only-of-type {\n",
       "        vertical-align: middle;\n",
       "    }\n",
       "\n",
       "    .dataframe tbody tr th {\n",
       "        vertical-align: top;\n",
       "    }\n",
       "\n",
       "    .dataframe thead th {\n",
       "        text-align: right;\n",
       "    }\n",
       "</style>\n",
       "<table border=\"1\" class=\"dataframe\">\n",
       "  <thead>\n",
       "    <tr style=\"text-align: right;\">\n",
       "      <th></th>\n",
       "      <th>instructions</th>\n",
       "      <th>text</th>\n",
       "    </tr>\n",
       "  </thead>\n",
       "  <tbody>\n",
       "    <tr>\n",
       "      <th>0</th>\n",
       "      <td>\\nTask: Write a persuasive essay on whether or...</td>\n",
       "      <td>Some schools in United States ofter classes fr...</td>\n",
       "    </tr>\n",
       "    <tr>\n",
       "      <th>1</th>\n",
       "      <td>\\nTask: Research the advantages and disadvanta...</td>\n",
       "      <td>Four-day work week, a remarkable idea to conse...</td>\n",
       "    </tr>\n",
       "    <tr>\n",
       "      <th>2</th>\n",
       "      <td>\\nTask: \\n\\n1. Talk to your parents before tak...</td>\n",
       "      <td>Students and their families should consider an...</td>\n",
       "    </tr>\n",
       "    <tr>\n",
       "      <th>3</th>\n",
       "      <td>\\nTask: Write an essay discussing the benefits...</td>\n",
       "      <td>Agree you will never grow if something beyond ...</td>\n",
       "    </tr>\n",
       "    <tr>\n",
       "      <th>4</th>\n",
       "      <td>\\nTask: Research and discuss how character tra...</td>\n",
       "      <td>I think our character traits are formed by inf...</td>\n",
       "    </tr>\n",
       "    <tr>\n",
       "      <th>...</th>\n",
       "      <td>...</td>\n",
       "      <td>...</td>\n",
       "    </tr>\n",
       "    <tr>\n",
       "      <th>2416</th>\n",
       "      <td>\\nTask: Research different kinds of medical pr...</td>\n",
       "      <td>On september 2, 2015 Generic_Name was entering...</td>\n",
       "    </tr>\n",
       "    <tr>\n",
       "      <th>2417</th>\n",
       "      <td>\\nTask: Write an essay discussing why schools ...</td>\n",
       "      <td>I think that schools must have a after school ...</td>\n",
       "    </tr>\n",
       "    <tr>\n",
       "      <th>2418</th>\n",
       "      <td>\\nTask: Write an essay about how having a few ...</td>\n",
       "      <td>Winston Churchill once said \"success consists ...</td>\n",
       "    </tr>\n",
       "    <tr>\n",
       "      <th>2419</th>\n",
       "      <td>\\nTask: \\n\\nWrite an essay exploring the pros ...</td>\n",
       "      <td>Technology seems to be becoming more and more ...</td>\n",
       "    </tr>\n",
       "    <tr>\n",
       "      <th>2420</th>\n",
       "      <td>\\nTask: Analyze and explore the benefits of im...</td>\n",
       "      <td>Teenage is a part of life where everyone wants...</td>\n",
       "    </tr>\n",
       "  </tbody>\n",
       "</table>\n",
       "<p>2421 rows × 2 columns</p>\n",
       "</div>"
      ],
      "text/plain": [
       "                                           instructions  \\\n",
       "0     \\nTask: Write a persuasive essay on whether or...   \n",
       "1     \\nTask: Research the advantages and disadvanta...   \n",
       "2     \\nTask: \\n\\n1. Talk to your parents before tak...   \n",
       "3     \\nTask: Write an essay discussing the benefits...   \n",
       "4     \\nTask: Research and discuss how character tra...   \n",
       "...                                                 ...   \n",
       "2416  \\nTask: Research different kinds of medical pr...   \n",
       "2417  \\nTask: Write an essay discussing why schools ...   \n",
       "2418  \\nTask: Write an essay about how having a few ...   \n",
       "2419  \\nTask: \\n\\nWrite an essay exploring the pros ...   \n",
       "2420  \\nTask: Analyze and explore the benefits of im...   \n",
       "\n",
       "                                                   text  \n",
       "0     Some schools in United States ofter classes fr...  \n",
       "1     Four-day work week, a remarkable idea to conse...  \n",
       "2     Students and their families should consider an...  \n",
       "3     Agree you will never grow if something beyond ...  \n",
       "4     I think our character traits are formed by inf...  \n",
       "...                                                 ...  \n",
       "2416  On september 2, 2015 Generic_Name was entering...  \n",
       "2417  I think that schools must have a after school ...  \n",
       "2418  Winston Churchill once said \"success consists ...  \n",
       "2419  Technology seems to be becoming more and more ...  \n",
       "2420  Teenage is a part of life where everyone wants...  \n",
       "\n",
       "[2421 rows x 2 columns]"
      ]
     },
     "execution_count": 10,
     "metadata": {},
     "output_type": "execute_result"
    }
   ],
   "source": [
    "daigt_prompts"
   ]
  },
  {
   "cell_type": "code",
   "execution_count": 9,
   "id": "ba074694-583e-4d9e-a4b2-4199401f0607",
   "metadata": {},
   "outputs": [],
   "source": [
    "# daigt_prompts.to_csv(\"../prepared/train/daigt/daigt_prompts.csv\", index=False)"
   ]
  },
  {
   "cell_type": "markdown",
   "id": "92418ff8-cdc3-437d-b137-00e016e86aee",
   "metadata": {},
   "source": [
    "## Testing with Mistral Instruct Model"
   ]
  },
  {
   "cell_type": "code",
   "execution_count": 23,
   "id": "4f2cfc20-6330-485e-a3c0-8702059f0661",
   "metadata": {},
   "outputs": [
    {
     "data": {
      "application/vnd.jupyter.widget-view+json": {
       "model_id": "d645aaf283f249b2aa4f5ec3cb6dc0e8",
       "version_major": 2,
       "version_minor": 0
      },
      "text/plain": [
       "Loading checkpoint shards:   0%|          | 0/3 [00:00<?, ?it/s]"
      ]
     },
     "metadata": {},
     "output_type": "display_data"
    }
   ],
   "source": [
    "from transformers import AutoModelForCausalLM, AutoTokenizer\n",
    "import torch\n",
    "\n",
    "device = \"cuda\" # the device to load the model onto\n",
    "#\n",
    "model_name = \"mistralai/Mistral-7B-Instruct-v0.2\"\n",
    "model = AutoModelForCausalLM.from_pretrained(\"mistralai/Mistral-7B-Instruct-v0.2\", torch_dtype=torch.bfloat16, device_map=device)\n",
    "tokenizer = AutoTokenizer.from_pretrained(\"mistralai/Mistral-7B-Instruct-v0.2\")"
   ]
  },
  {
   "cell_type": "code",
   "execution_count": 33,
   "id": "063d9942-7765-4cb6-9e1c-50b9d9767787",
   "metadata": {},
   "outputs": [],
   "source": [
    "def generate_essay(prompt):\n",
    "    messages = [{\n",
    "        \"role\": \"user\",\n",
    "        \"content\": prompt\n",
    "    }]\n",
    "\n",
    "    model_inputs = tokenizer.apply_chat_template(messages, return_tensors=\"pt\").to(device)\n",
    "\n",
    "    # Setting `pad_token_id` to `eos_token_id` for open-ended generation.\n",
    "    generated_ids = model.generate(\n",
    "        model_inputs,\n",
    "        max_new_tokens=7500,\n",
    "        do_sample=True,\n",
    "        pad_token_id=tokenizer.eos_token_id\n",
    "    )\n",
    "\n",
    "    decoded = tokenizer.batch_decode(generated_ids, skip_special_tokens=True)\n",
    "    text = decoded[0].split(\"[/INST]\")[1]\n",
    "    return text"
   ]
  },
  {
   "cell_type": "code",
   "execution_count": 32,
   "id": "fc51eecd-26d8-4d35-80de-72868ee1969f",
   "metadata": {},
   "outputs": [
    {
     "data": {
      "text/plain": [
       "'\\nTask: Research and analyze the benefits of enforcing curfews for teenagers who do not get into trouble, and what activities or resources can be implemented to ensure that they are staying out of trouble.'"
      ]
     },
     "execution_count": 32,
     "metadata": {},
     "output_type": "execute_result"
    }
   ],
   "source": [
    "chosen_task = np.random.choice(daigt_tasks)\n",
    "chosen_task"
   ]
  },
  {
   "cell_type": "code",
   "execution_count": 36,
   "id": "db31c23b-87bf-46de-9be5-7397c733b9e5",
   "metadata": {},
   "outputs": [],
   "source": [
    "prompt = f'''You are a student working on the following assignment.\n",
    "\n",
    "Create an essay based on the following task in no more than a 100 words.\n",
    "{chosen_task}\n",
    "'''"
   ]
  },
  {
   "cell_type": "code",
   "execution_count": null,
   "id": "2d660226-64cf-48bd-a76a-94ee533095c9",
   "metadata": {},
   "outputs": [],
   "source": []
  }
 ],
 "metadata": {
  "kernelspec": {
   "display_name": "Python 3 (ipykernel)",
   "language": "python",
   "name": "python3"
  },
  "language_info": {
   "codemirror_mode": {
    "name": "ipython",
    "version": 3
   },
   "file_extension": ".py",
   "mimetype": "text/x-python",
   "name": "python",
   "nbconvert_exporter": "python",
   "pygments_lexer": "ipython3",
   "version": "3.11.5"
  }
 },
 "nbformat": 4,
 "nbformat_minor": 5
}
