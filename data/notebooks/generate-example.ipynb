{
 "cells": [
  {
   "cell_type": "code",
   "execution_count": 1,
   "outputs": [],
   "source": [
    "import torch\n",
    "from transformers import GPT2Tokenizer, GPT2LMHeadModel\n",
    "\n",
    "device = 'cuda' if torch.cuda.is_available() else 'cpu'\n",
    "\n",
    "tokenizer = GPT2Tokenizer.from_pretrained('gpt2')\n",
    "model = GPT2LMHeadModel.from_pretrained('gpt2')"
   ],
   "metadata": {
    "collapsed": false,
    "ExecuteTime": {
     "end_time": "2023-10-02T21:28:08.011734100Z",
     "start_time": "2023-10-02T21:27:56.315519700Z"
    }
   },
   "id": "a6fdac37c362e39b"
  },
  {
   "cell_type": "code",
   "execution_count": 22,
   "outputs": [],
   "source": [
    "model = model.to(device)\n",
    "text = \"What is a Prime Minister?\"\n",
    "encoded_input = tokenizer(text, return_tensors='pt')\n",
    "cuda_input = encoded_input.to(device)\n",
    "input_ids = cuda_input.input_ids"
   ],
   "metadata": {
    "collapsed": false,
    "ExecuteTime": {
     "end_time": "2023-10-02T21:37:35.604134Z",
     "start_time": "2023-10-02T21:37:35.597152500Z"
    }
   },
   "id": "9297cc377d48a52f"
  },
  {
   "cell_type": "code",
   "execution_count": 23,
   "outputs": [
    {
     "name": "stderr",
     "output_type": "stream",
     "text": [
      "The attention mask and the pad token id were not set. As a consequence, you may observe unexpected behavior. Please pass your input's `attention_mask` to obtain reliable results.\n",
      "Setting `pad_token_id` to `eos_token_id`:50256 for open-end generation.\n"
     ]
    }
   ],
   "source": [
    "generated = model.generate(input_ids,\n",
    "                           max_length=150,\n",
    "                           num_return_sequences=5,\n",
    "                           no_repeat_ngram_size=2,\n",
    "                           repetition_penalty=1.5,\n",
    "                           top_p=0.92,\n",
    "                           temperature=0.85,\n",
    "                           do_sample=True,\n",
    "                           top_k=50,\n",
    "                           early_stopping=True\n",
    "                           )"
   ],
   "metadata": {
    "collapsed": false,
    "ExecuteTime": {
     "end_time": "2023-10-02T21:37:38.757948200Z",
     "start_time": "2023-10-02T21:37:35.830762700Z"
    }
   },
   "id": "346af13c689f9f65"
  },
  {
   "cell_type": "code",
   "execution_count": 26,
   "outputs": [
    {
     "name": "stdout",
     "output_type": "stream",
     "text": [
      "1: What is a Prime Minister?\n",
      "Tough questions, but I think that you're going to find them interesting and useful,\" he said.\n",
      "\n",
      " (Reporting by Peter Haldane in Melbourne)\n",
      "\n",
      "2: What is a Prime Minister?\n",
      "It's quite clear that the prime minister has no role in politics. He plays an important and crucial part for us as we move forward from this difficult time, so when you look at government finances there are very few reasons why he might not be elected leader of our party.\"\n",
      "\n",
      "3: What is a Prime Minister?\n",
      "The government has been trying to answer questions about who the prime minister would be. That's when you get something like this: \"Mr Harper, if I was elected as leader of Canada we are going out and saying it must all go on\". It seems odd that someone whose political views have long differed from those expressed by his own party could say what they think he does; but then so often our leaders seem confused or even downright clueless in such matters … In short there will always come an element within us which gets under your skin… This man needs help now.\"\n",
      "\n",
      "4: What is a Prime Minister?\n",
      "There are many things in the world of business that can and should be achieved by anyone, including politicians. This includes investing strategically; providing social services such as free health care for everyone but women (which requires investment) and public service provision to all people or those whose lives need it most: education reform means improving healthcare systems at home while also ensuring we have universal access – which will benefit every woman who wants one\n",
      "\n",
      "5: What is a Prime Minister?\n",
      "It's often hard to figure out how the definition of that word came into being. I didn't know what it means or where we got our idea for \"prime minister\". It became part-of my DNA at school and has always been around as much in English schools than science classes, so you'd be well advised not just think about this but go with whichever one makes sense because they don`t make up anything until very late on.\"\n",
      "\n",
      "'Fascinatingly similar'. 'The language changes dramatically without me understanding why.' says Thomas Greenfield MP (R)\n"
     ]
    }
   ],
   "source": [
    "for i, beam in enumerate(generated):\n",
    "    print(f\"{i+1}: {tokenizer.decode(beam, skip_special_tokens=True)}\\n\")"
   ],
   "metadata": {
    "collapsed": false,
    "ExecuteTime": {
     "end_time": "2023-10-02T21:38:14.278963100Z",
     "start_time": "2023-10-02T21:38:14.245051700Z"
    }
   },
   "id": "668639bc90bfb989"
  },
  {
   "cell_type": "code",
   "execution_count": null,
   "outputs": [],
   "source": [],
   "metadata": {
    "collapsed": false
   },
   "id": "8f236f5163680138"
  }
 ],
 "metadata": {
  "kernelspec": {
   "display_name": "Python 3",
   "language": "python",
   "name": "python3"
  },
  "language_info": {
   "codemirror_mode": {
    "name": "ipython",
    "version": 2
   },
   "file_extension": ".py",
   "mimetype": "text/x-python",
   "name": "python",
   "nbconvert_exporter": "python",
   "pygments_lexer": "ipython2",
   "version": "2.7.6"
  }
 },
 "nbformat": 4,
 "nbformat_minor": 5
}
