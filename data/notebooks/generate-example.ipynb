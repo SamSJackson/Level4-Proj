{
 "cells": [
  {
   "cell_type": "code",
   "execution_count": 2,
   "outputs": [],
   "source": [
    "import torch\n",
    "from transformers import GPT2Tokenizer, GPT2LMHeadModel\n",
    "\n",
    "device = 'cuda' if torch.cuda.is_available() else 'cpu'\n",
    "\n",
    "tokenizer = GPT2Tokenizer.from_pretrained('gpt2-xl')\n",
    "model = GPT2LMHeadModel.from_pretrained('gpt2-xl')"
   ],
   "metadata": {
    "collapsed": false,
    "ExecuteTime": {
     "end_time": "2023-10-01T16:54:27.930714200Z",
     "start_time": "2023-10-01T16:54:12.791359400Z"
    }
   },
   "id": "a6fdac37c362e39b"
  },
  {
   "cell_type": "code",
   "execution_count": 4,
   "outputs": [],
   "source": [
    "model = model.to(device)\n",
    "text = \"Who is Napoleon?\"\n",
    "encoded_input = tokenizer(text, return_tensors='pt')\n",
    "cuda_input = encoded_input.to(device)"
   ],
   "metadata": {
    "collapsed": false,
    "ExecuteTime": {
     "end_time": "2023-10-01T16:54:40.755078900Z",
     "start_time": "2023-10-01T16:54:40.736129600Z"
    }
   },
   "id": "9297cc377d48a52f"
  },
  {
   "cell_type": "code",
   "execution_count": 13,
   "outputs": [
    {
     "name": "stderr",
     "output_type": "stream",
     "text": [
      "Setting `pad_token_id` to `eos_token_id`:50256 for open-end generation.\n"
     ]
    }
   ],
   "source": [
    "generated = model.generate(**cuda_input, max_new_tokens=100)"
   ],
   "metadata": {
    "collapsed": false,
    "ExecuteTime": {
     "end_time": "2023-10-01T17:03:05.715178800Z",
     "start_time": "2023-10-01T16:56:05.184582600Z"
    }
   },
   "id": "346af13c689f9f65"
  },
  {
   "cell_type": "code",
   "execution_count": 14,
   "outputs": [
    {
     "data": {
      "text/plain": "'Who is Napoleon?\\n\\nNapoleon Bonaparte was a French general who led the French army during the French Revolution. He was the first to use the term \"Napoleon\" to describe himself.\\n\\nWhat is the meaning of the name Napoleon?\\n\\nThe name Napoleon is a combination of the French words \"Napoleon\" and \"deux\". It is a combination of the French words \"Napoleon\" and \"deux\" which means \"two\".\\n\\nWhat is the origin of the name'"
     },
     "execution_count": 14,
     "metadata": {},
     "output_type": "execute_result"
    }
   ],
   "source": [
    "tokenizer.decode(generated.flatten())"
   ],
   "metadata": {
    "collapsed": false,
    "ExecuteTime": {
     "end_time": "2023-10-01T17:03:05.731135600Z",
     "start_time": "2023-10-01T17:03:05.717173500Z"
    }
   },
   "id": "668639bc90bfb989"
  },
  {
   "cell_type": "code",
   "execution_count": null,
   "outputs": [],
   "source": [],
   "metadata": {
    "collapsed": false
   },
   "id": "8f236f5163680138"
  }
 ],
 "metadata": {
  "kernelspec": {
   "display_name": "Python 3",
   "language": "python",
   "name": "python3"
  },
  "language_info": {
   "codemirror_mode": {
    "name": "ipython",
    "version": 2
   },
   "file_extension": ".py",
   "mimetype": "text/x-python",
   "name": "python",
   "nbconvert_exporter": "python",
   "pygments_lexer": "ipython2",
   "version": "2.7.6"
  }
 },
 "nbformat": 4,
 "nbformat_minor": 5
}
