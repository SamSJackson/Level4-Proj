{
 "cells": [
  {
   "cell_type": "code",
   "execution_count": 21,
   "id": "initial_id",
   "metadata": {
    "collapsed": true,
    "ExecuteTime": {
     "end_time": "2023-10-11T14:59:11.707343400Z",
     "start_time": "2023-10-11T14:59:11.693354300Z"
    }
   },
   "outputs": [],
   "source": [
    "import os, random"
   ]
  },
  {
   "cell_type": "code",
   "execution_count": 41,
   "outputs": [],
   "source": [
    "path = \"../newspapers/raw/20news-bydate-train/rec.autos/\""
   ],
   "metadata": {
    "collapsed": false,
    "ExecuteTime": {
     "end_time": "2023-10-11T15:05:53.133905800Z",
     "start_time": "2023-10-11T15:05:53.120940700Z"
    }
   },
   "id": "1dfb6765539ecae3"
  },
  {
   "cell_type": "code",
   "execution_count": 42,
   "outputs": [],
   "source": [
    "items = os.listdir(path)\n",
    "item_number = random.randint(0, len(items))\n",
    "\n",
    "first_news = path + items[item_number]"
   ],
   "metadata": {
    "collapsed": false,
    "ExecuteTime": {
     "end_time": "2023-10-11T15:05:53.339352300Z",
     "start_time": "2023-10-11T15:05:53.333368600Z"
    }
   },
   "id": "871acd3036a0e7b4"
  },
  {
   "cell_type": "code",
   "execution_count": 43,
   "outputs": [
    {
     "name": "stdout",
     "output_type": "stream",
     "text": [
      "vlasis@cybernet.cse.fau.edu (vlasis theodore)\n",
      "\n",
      "From: vlasis@cybernet.cse.fau.edu (vlasis theodore)\n",
      "\n",
      "Subject: Re: WARNING.....(please read)...\n",
      "\n",
      "Organization: Cybernet BBS, Boca Raton, Florida\n",
      "\n",
      "Lines: 20\n",
      "\n",
      "\n",
      "\n",
      "neilson@seoul.mpr.ca (Robert Neilson) writes:\n",
      "\n",
      "\n",
      "\n",
      "> [sorry for the 0 auto content, but ... ]\n",
      "\n",
      "> \n",
      "\n",
      "> > That is why low-abiding citizens should have the power to protect themselve\n",
      "\n",
      "> > and their property using deadly force if necessary anywhere a threat is \n",
      "\n",
      "> > imminent.\n",
      "\n",
      "> >\n",
      "\n",
      "> > Steve Heracleous\n",
      "\n",
      "> \n",
      "\n",
      "> You do have the power Steve. You *can* do it. Why don't you? Why don't you\n",
      "\n",
      "> go shoot some kids who are tossing rocks onto cars? Make sure you do a good\n",
      "\n",
      "> job though - don't miss - 'cause like they have big rocks - and take it from\n",
      "\n",
      "> me - those kids are mean.\n",
      "\n",
      "\n",
      "\n",
      "Ditto,\n",
      "\n",
      "\n",
      "\n",
      "I you dont do it yourself nobody, will.\n",
      "\n",
      "Unless I am behind you, so both of us can shoot them bastards.\n",
      "\n",
      "\n"
     ]
    }
   ],
   "source": [
    "with open(first_news) as f:\n",
    "    lines = f.readlines()\n",
    "\n",
    "for line in lines:\n",
    "    if line.startswith(\"From: \"):\n",
    "        spl = line.split(\"From: \")[1]\n",
    "        print(spl)\n",
    "    if line.startswith(\"Subject: \"):\n",
    "        spl = line.split(\"Subject: \")\n",
    "    print(line)"
   ],
   "metadata": {
    "collapsed": false,
    "ExecuteTime": {
     "end_time": "2023-10-11T15:05:53.590355200Z",
     "start_time": "2023-10-11T15:05:53.585369Z"
    }
   },
   "id": "fa919f089c22c4e"
  },
  {
   "cell_type": "code",
   "execution_count": null,
   "outputs": [],
   "source": [],
   "metadata": {
    "collapsed": false
   },
   "id": "8d25949119d22565"
  }
 ],
 "metadata": {
  "kernelspec": {
   "display_name": "Python 3",
   "language": "python",
   "name": "python3"
  },
  "language_info": {
   "codemirror_mode": {
    "name": "ipython",
    "version": 2
   },
   "file_extension": ".py",
   "mimetype": "text/x-python",
   "name": "python",
   "nbconvert_exporter": "python",
   "pygments_lexer": "ipython2",
   "version": "2.7.6"
  }
 },
 "nbformat": 4,
 "nbformat_minor": 5
}
