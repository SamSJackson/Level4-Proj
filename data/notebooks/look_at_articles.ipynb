{
 "cells": [
  {
   "cell_type": "code",
   "execution_count": 25,
   "id": "2c0fedb9-deff-416c-b77b-b51aa27da5ae",
   "metadata": {},
   "outputs": [],
   "source": [
    "import numpy as np\n",
    "import pandas as pd "
   ]
  },
  {
   "cell_type": "code",
   "execution_count": 26,
   "id": "c6a24851-4a5f-4f80-83ba-38fb64ce7667",
   "metadata": {},
   "outputs": [],
   "source": [
    "data_path = \"../processed/train/wmarked/model_mistralai-Mistral-7B-Instruct-v0_2_100_delta_5_11_01_2024.csv\"\n",
    "df = pd.read_csv(data_path)"
   ]
  },
  {
   "cell_type": "code",
   "execution_count": 27,
   "id": "1c1021a2-2360-48bd-98f8-8b886c9d3a90",
   "metadata": {},
   "outputs": [
    {
     "name": "stdout",
     "output_type": "stream",
     "text": [
      "instruction='\\nTask: Write an essay exploring the question \"Do we have to live other people\\'s experiences?\"' \n",
      "\n",
      " WATERMARKED:\n",
      "------\n",
      "  title: Living Other People's Experiences: A Choices Matter Philosophy\n",
      "\n",
      "Our lives are defined by a series of experiences, shaping us into who we are. But, the question arises, do we have an obligation to partake in the experiences of others to truly understand them? Absolutely not. While resonating with others is essential, we should not compromise our individuality, freedom, and unique perspectives. Each person holds a distinct universe of thoughts and emotions, fueling our worldview. Embrace your journey and respect that everyone else has a distinct one to follow. Life becomes an art, with choices and chances waiting at every corner. So, live yours fully - yours is the only experience truly yours to own. \n",
      "\n",
      " NONWATERMARKED:\n",
      "-----\n",
      "  Title: Living Other People's Experiences: A Necessity or an Option?\n",
      "\n",
      "Living other people's experiences is a complex question that touches the very core of human connection and empathy. While we may not be able to fully live someone else's life, we can gain valuable insights and understanding through their stories, experiences, and perspectives. This not only enriches our own lives but also fosters tolerance and builds bridges across cultural and social divides. However, it's essential to maintain a balance and respect the individuality and uniqueness of every person's story. Ultimately, living other people's experiences is a choice - one that can open doors to new understanding, connections, and personal growth. \n",
      "\n",
      " SOURCE:\n",
      "------\n",
      " Do we have to live other people experiences?\n",
      "\n",
      "If we want to live our own life you should start by taking a break. Think how people would like to live their lifes and then, use this as an example but do not use it for your own. We all know that life isn't easy as we want but that's life, we cannot change it. If you put your life in hands of an expert you will have the opportunity to succed but it will feel strange and you will regret later. Why? if you ask why, and this is because everything you have done it's thanks to someone else not to you, you are not living your own life, youar not having fun, no mistakes, no experiences, no control of your own life. There's always going to be a person telling you what to do and if you don't follow his/her directions something could go wrong. That's why you should live your life as you want to live it without anybody help. At first, you can have a teacher during a period of time but it doesn't mean that you will have to go and ask for help everytime you have a problem. Make your own decisions mean that you will do mistakes but you will learn even more from this and it will help you to do thigs better and it also will help you like a human. When I said human I mean that you will have your own thoughts about something and your own way to live your life and no like a robot that just follow direction and have no sense of humor.\n",
      "\n",
      "People will never discover their great mental power because until I know they just develop the 70.3% of their mental capacity and it makes them feel useless sometimes. I don't really like to talk about other people life but one example could be Homeless people. Everyone thinks and look at the as a piece on somethings useless but if you really meet them and talk to them you will realize that they are smart and all they do and what they have in their brains is even better than what we have. The way they think and the way they look at other people make them specials and unique. Now, what can experts do to change their life or take the control of what they want to do?. As we all know, they cannot do anything and no matter what the situation could be the answer will be the same. Their decisions and their style of life before the actual I think were made by someone else and after a while they were not able to pay for what they had. Experts help you to get things but do you really think they will help you when you are really on trouble? or will they help you with things you have to pay? the answer to this is NO. In my opinion they help you because they want something from you or they will try to get something from you after you learn it. Two years ago I met an old man from Washington DC, his name was Generic_Name. His parents are from Generic_City and Generic_City. Before homeless he was a mechanic but one day while he was fixing a car he met a person who told him that he could help him to have his own workshop and he accepted. Everything was good for the first years but after some years the person left the country and Generic_Name didn't have the capacity to manage the whole store. Bussiness came down, deppression started to make him use drugs, and after a while he lost everything he had and the expert (person who help him) wasn't there to help him when he really needed him.\n",
      "\n",
      "If you think you have the capacity to succed on your own, you have to do it and don't let anyone ruin what you have planned for your own future. It doesn't matter if he is a proffesional, you just need to learn what you need but never let them maneuver your life. People will always try to control your life but you are the one who is going to decide if you want to live the life they want you to live or the one you want to live. I am not saying that you have to ignore the advices they give you but don't follow their directions.\n",
      "\n",
      "Nothing is difficult if you really try it and nothing can be impossible if you really want to do it. Do not live like a robot, don't let anyone take adventage of your incapacity to succed just because you do not know anything. Ask questions, ask for advices and opinions but don't do want they want to do with your life. I know life isn't easy to live but remember that we just have one and after death we cannot do anything about it. Life is going to beat you up, experiences will make you stronger every single day, decisions will make you be independent, and at the end you will see that everything you did was good and you have what you wanted without anybody help. My friend, if you let people maneuver your life, then you will cry and you will not have the future you wanted. Everything will be destroyed and disgrace will follow you anywhere.\n",
      "\n",
      "Don't follow experts, be one of them and do your own life, have a family, have a car, an partment or whatever you want to have without asking anyone. Help is given by God when you born. He gave you two arms, two legs, two eyes and a body. A person help you to walk and talk and one time you learn this you become an indepentent person. Do everything by yourself and don't let people make you feel useless because God make them the same as you and as everyone else but they have not develop their mental capacity the waht make them special. If you do everything by yourself people will try to destroy you but be strong and try even more until get what you want. Never try to kill yourself if you don't know what to do it is better if you believe in God and in his help because he is the only one who can help you without taking anything away from you.\n",
      "\n",
      "Never give up and follow your dreams, live your life as you want to live it but remember that no one can control what you can do if you don't want to. Life depends of you and what you do with it. No matter what happen you have to do what makes you happy always just trusting God. Remember that just God and family are our friends. Anyone else is just people we know. Fight for what you really want no matter what comes next.\n"
     ]
    }
   ],
   "source": [
    "def pretty_print(df, row):\n",
    "    instruction, truth, kgw, nwmark = df.iloc[row]\n",
    "    print(f\"{instruction=} \\n\\n WATERMARKED:\\n------\\n {kgw} \\n\\n NONWATERMARKED:\\n-----\\n {nwmark} \\n\\n SOURCE:\\n------\\n {truth}\")\n",
    "    \n",
    "pretty_print(df, 3)"
   ]
  },
  {
   "cell_type": "code",
   "execution_count": 12,
   "id": "e8c37f63-e01e-4bd9-9ac1-735d00bb0a65",
   "metadata": {},
   "outputs": [],
   "source": [
    "ans, _, _, _ = df.iloc[3]"
   ]
  },
  {
   "cell_type": "code",
   "execution_count": 13,
   "id": "59e7d1f2-78c5-4650-ac50-f3cbb4bfae9c",
   "metadata": {},
   "outputs": [
    {
     "data": {
      "text/plain": [
       "\"\\nTask: \\nWrite an essay discussing how Thomas Jefferson's writing about avoiding idleness can apply to modern life. Include evidence from your own experiences and discuss how not responding to provocation can be beneficial.\""
      ]
     },
     "execution_count": 13,
     "metadata": {},
     "output_type": "execute_result"
    }
   ],
   "source": [
    "ans"
   ]
  },
  {
   "cell_type": "code",
   "execution_count": null,
   "id": "93a65d00-d537-4910-a81a-b97b9970baf7",
   "metadata": {},
   "outputs": [],
   "source": []
  }
 ],
 "metadata": {
  "kernelspec": {
   "display_name": "Python 3 (ipykernel)",
   "language": "python",
   "name": "python3"
  },
  "language_info": {
   "codemirror_mode": {
    "name": "ipython",
    "version": 3
   },
   "file_extension": ".py",
   "mimetype": "text/x-python",
   "name": "python",
   "nbconvert_exporter": "python",
   "pygments_lexer": "ipython3",
   "version": "3.11.5"
  }
 },
 "nbformat": 4,
 "nbformat_minor": 5
}
