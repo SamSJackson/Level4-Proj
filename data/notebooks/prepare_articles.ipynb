{
 "cells": [
  {
   "cell_type": "code",
   "execution_count": 1,
   "id": "initial_id",
   "metadata": {
    "collapsed": true,
    "ExecuteTime": {
     "end_time": "2023-11-20T10:19:38.149208040Z",
     "start_time": "2023-11-20T10:19:37.460908316Z"
    }
   },
   "outputs": [],
   "source": [
    "from sklearn.model_selection import train_test_split\n",
    "import pandas as pd, numpy as np\n",
    "import os, tqdm "
   ]
  },
  {
   "cell_type": "code",
   "execution_count": 2,
   "outputs": [],
   "source": [
    "raw_data_path = \"../raw/m-articles.jsonl\"\n",
    "df = pd.read_json(raw_data_path, lines=True)"
   ],
   "metadata": {
    "collapsed": false,
    "ExecuteTime": {
     "end_time": "2023-11-20T10:19:58.132242244Z",
     "start_time": "2023-11-20T10:19:38.143453216Z"
    }
   },
   "id": "cdb11e8328ec655b"
  },
  {
   "cell_type": "code",
   "execution_count": 3,
   "outputs": [
    {
     "data": {
      "text/plain": "(1000000, 6)"
     },
     "execution_count": 3,
     "metadata": {},
     "output_type": "execute_result"
    }
   ],
   "source": [
    "df.shape"
   ],
   "metadata": {
    "collapsed": false,
    "ExecuteTime": {
     "end_time": "2023-11-20T10:19:58.149182082Z",
     "start_time": "2023-11-20T10:19:58.136136636Z"
    }
   },
   "id": "e3866e2ccf96cc8c"
  },
  {
   "cell_type": "markdown",
   "source": [
    "## Preparation Goals\n",
    "1. Remove sources with only 150 words in content\n",
    "2. Remove sources with any NaN values\n",
    "3. Introduce column called \"content-cut\"\n",
    "    - Content with only 100 tokens  \n",
    "4. Split into train & test\n",
    "    - No need for test yet but more useful to separate early on"
   ],
   "metadata": {
    "collapsed": false
   },
   "id": "ebe5376f4fccda55"
  },
  {
   "cell_type": "markdown",
   "source": [
    "### No NaN values, seen below"
   ],
   "metadata": {
    "collapsed": false
   },
   "id": "7ce941eb311bc0df"
  },
  {
   "cell_type": "code",
   "execution_count": 4,
   "outputs": [
    {
     "data": {
      "text/plain": "False"
     },
     "execution_count": 4,
     "metadata": {},
     "output_type": "execute_result"
    }
   ],
   "source": [
    "df.isnull().sum().any()"
   ],
   "metadata": {
    "collapsed": false,
    "ExecuteTime": {
     "end_time": "2023-11-20T10:20:07.459463101Z",
     "start_time": "2023-11-20T10:20:07.409882934Z"
    }
   },
   "id": "140fb60fb946140d"
  },
  {
   "cell_type": "code",
   "execution_count": 5,
   "outputs": [
    {
     "name": "stderr",
     "output_type": "stream",
     "text": [
      "/home/sam/anaconda3/envs/wmark-pt/lib/python3.11/site-packages/numpy/core/fromnumeric.py:59: FutureWarning: 'Series.swapaxes' is deprecated and will be removed in a future version. Please use 'Series.transpose' instead.\n",
      "  return bound(*args, **kwds)\n",
      "100%|██████████| 10/10 [00:18<00:00,  1.83s/it]\n"
     ]
    }
   ],
   "source": [
    "# Completed in increments to not blow up my computer\n",
    "groups = 10\n",
    "split_up = np.split(df['content'], groups)\n",
    "word_counts = []\n",
    "\n",
    "for group in tqdm.tqdm(split_up):\n",
    "    lengths = list(map(lambda x : len(x.split()), group))\n",
    "    word_counts += lengths\n",
    "df['word-count'] = word_counts"
   ],
   "metadata": {
    "collapsed": false,
    "ExecuteTime": {
     "end_time": "2023-11-20T10:20:25.926254322Z",
     "start_time": "2023-11-20T10:20:07.457221698Z"
    }
   },
   "id": "cc98b663ef9a508c"
  },
  {
   "cell_type": "code",
   "execution_count": 6,
   "outputs": [],
   "source": [
    "df_more_than_150 = df[df['word-count'] > 150]"
   ],
   "metadata": {
    "collapsed": false,
    "ExecuteTime": {
     "end_time": "2023-11-20T10:20:26.006073740Z",
     "start_time": "2023-11-20T10:20:25.912493233Z"
    }
   },
   "id": "8d34487f693775d3"
  },
  {
   "cell_type": "code",
   "execution_count": 7,
   "outputs": [
    {
     "name": "stderr",
     "output_type": "stream",
     "text": [
      "/home/sam/anaconda3/envs/wmark-pt/lib/python3.11/site-packages/numpy/core/fromnumeric.py:59: FutureWarning: 'Series.swapaxes' is deprecated and will be removed in a future version. Please use 'Series.transpose' instead.\n",
      "  return bound(*args, **kwds)\n",
      "100%|██████████| 10/10 [00:18<00:00,  1.82s/it]\n",
      "/tmp/ipykernel_9066/1127748194.py:8: SettingWithCopyWarning: \n",
      "A value is trying to be set on a copy of a slice from a DataFrame.\n",
      "Try using .loc[row_indexer,col_indexer] = value instead\n",
      "\n",
      "See the caveats in the documentation: https://pandas.pydata.org/pandas-docs/stable/user_guide/indexing.html#returning-a-view-versus-a-copy\n",
      "  df_more_than_150['content-to-sample'] = cut_off\n"
     ]
    }
   ],
   "source": [
    "groups = 10\n",
    "split_up = np.array_split(df_more_than_150['content'], groups)\n",
    "cut_off = []\n",
    "\n",
    "for group in tqdm.tqdm(split_up):\n",
    "    cut_off_group = list(map(lambda x : \" \".join(x.split()[:100]), group))\n",
    "    cut_off += cut_off_group\n",
    "df_more_than_150['content-to-sample'] = cut_off"
   ],
   "metadata": {
    "collapsed": false,
    "ExecuteTime": {
     "end_time": "2023-11-20T10:20:44.416824147Z",
     "start_time": "2023-11-20T10:20:26.052932642Z"
    }
   },
   "id": "f529a541bb920884"
  },
  {
   "cell_type": "code",
   "execution_count": 8,
   "outputs": [],
   "source": [
    "df_more_than_150 = df_more_than_150[['id', 'title', 'media-type', 'source', 'content', 'word-count', 'content-to-sample', 'published']]"
   ],
   "metadata": {
    "collapsed": false,
    "ExecuteTime": {
     "end_time": "2023-11-20T10:20:44.497759877Z",
     "start_time": "2023-11-20T10:20:44.336188628Z"
    }
   },
   "id": "450495eb2bf8577b"
  },
  {
   "cell_type": "code",
   "execution_count": 9,
   "outputs": [],
   "source": [
    "train_df, test_df = train_test_split(df_more_than_150, test_size=0.2)"
   ],
   "metadata": {
    "collapsed": false,
    "ExecuteTime": {
     "end_time": "2023-11-20T10:20:45.291632373Z",
     "start_time": "2023-11-20T10:20:44.500667127Z"
    }
   },
   "id": "8c97fcbc725c12d8"
  },
  {
   "cell_type": "code",
   "execution_count": 10,
   "outputs": [],
   "source": [
    "train_df.to_csv(\"../prepared/train/training_untokenized.csv\", index=False)\n",
    "test_df.to_csv(\"../prepared/test/test_untokenized.csv\", index=False)"
   ],
   "metadata": {
    "collapsed": false,
    "ExecuteTime": {
     "end_time": "2023-11-20T10:21:37.403647724Z",
     "start_time": "2023-11-20T10:20:45.292925052Z"
    }
   },
   "id": "d0cb1366a26227c2"
  },
  {
   "cell_type": "code",
   "execution_count": null,
   "outputs": [],
   "source": [],
   "metadata": {
    "collapsed": false
   },
   "id": "247ccf5d1303d63c"
  }
 ],
 "metadata": {
  "kernelspec": {
   "display_name": "Python 3",
   "language": "python",
   "name": "python3"
  },
  "language_info": {
   "codemirror_mode": {
    "name": "ipython",
    "version": 2
   },
   "file_extension": ".py",
   "mimetype": "text/x-python",
   "name": "python",
   "nbconvert_exporter": "python",
   "pygments_lexer": "ipython2",
   "version": "2.7.6"
  }
 },
 "nbformat": 4,
 "nbformat_minor": 5
}
