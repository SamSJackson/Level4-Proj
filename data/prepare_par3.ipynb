{
 "cells": [
  {
   "cell_type": "code",
   "execution_count": 149,
   "id": "initial_id",
   "metadata": {
    "collapsed": true,
    "ExecuteTime": {
     "end_time": "2023-12-06T17:43:46.732192900Z",
     "start_time": "2023-12-06T17:43:46.586196200Z"
    }
   },
   "outputs": [],
   "source": [
    "import pandas as pd \n",
    "import numpy as np \n",
    "from sklearn.model_selection import train_test_split"
   ]
  },
  {
   "cell_type": "code",
   "execution_count": 7,
   "outputs": [],
   "source": [
    "path = \"raw/par3/par3.pkl\"\n",
    "with open(path, 'rb') as f:\n",
    "    data = pd.read_pickle(f)"
   ],
   "metadata": {
    "collapsed": false,
    "ExecuteTime": {
     "end_time": "2023-12-06T16:38:45.908915200Z",
     "start_time": "2023-12-06T16:38:43.192589100Z"
    }
   },
   "id": "3ce1072da0ad502b"
  },
  {
   "cell_type": "code",
   "execution_count": 13,
   "outputs": [],
   "source": [
    "keys = list(data.keys())"
   ],
   "metadata": {
    "collapsed": false,
    "ExecuteTime": {
     "end_time": "2023-12-06T16:39:56.501806200Z",
     "start_time": "2023-12-06T16:39:56.498554Z"
    }
   },
   "id": "8107b372b0af3085"
  },
  {
   "cell_type": "code",
   "execution_count": 18,
   "outputs": [
    {
     "data": {
      "text/plain": "dict_keys(['source_paras', 'gt_paras', 'translator_data'])"
     },
     "execution_count": 18,
     "metadata": {},
     "output_type": "execute_result"
    }
   ],
   "source": [
    "data[keys[0]].keys()"
   ],
   "metadata": {
    "collapsed": false,
    "ExecuteTime": {
     "end_time": "2023-12-06T16:41:09.026419400Z",
     "start_time": "2023-12-06T16:41:09.020959100Z"
    }
   },
   "id": "6bf3ab6779f719dd"
  },
  {
   "cell_type": "markdown",
   "source": [
    "## Goal\n",
    "\n",
    "I want to construct a dataset of paragraphs aligned with translations.\n",
    "Book is irrelevant. I do not want google translate version - I can just ignore these.\n",
    "\n",
    "Structure should be [source-text, translation-alignment]"
   ],
   "metadata": {
    "collapsed": false
   },
   "id": "b6b1815e5ea230fe"
  },
  {
   "cell_type": "markdown",
   "source": [
    "### Counting the number of translators for a given book"
   ],
   "metadata": {
    "collapsed": false
   },
   "id": "ab1d81e34fa6af84"
  },
  {
   "cell_type": "code",
   "execution_count": 42,
   "outputs": [],
   "source": [
    "def find_book_with_n_translators(book_data, n_translations):\n",
    "    books = [book for book in keys if len(book_data[book][\"translator_data\"].keys()) > n_translations]\n",
    "    return books"
   ],
   "metadata": {
    "collapsed": false,
    "ExecuteTime": {
     "end_time": "2023-12-06T16:54:32.445922100Z",
     "start_time": "2023-12-06T16:54:32.442717900Z"
    }
   },
   "id": "4b284d1ae7012dec"
  },
  {
   "cell_type": "code",
   "execution_count": 58,
   "outputs": [],
   "source": [
    "n = 2\n",
    "n_translator_books = find_book_with_n_translators(data, n)"
   ],
   "metadata": {
    "collapsed": false,
    "ExecuteTime": {
     "end_time": "2023-12-06T16:59:08.132914100Z",
     "start_time": "2023-12-06T16:59:08.129171400Z"
    }
   },
   "id": "51a4015bddce933e"
  },
  {
   "cell_type": "code",
   "execution_count": 59,
   "outputs": [
    {
     "name": "stdout",
     "output_type": "stream",
     "text": [
      "65372\n"
     ]
    }
   ],
   "source": [
    "number_of_paragraphs = 0 \n",
    "for book in n_translator_books:\n",
    "    for i in range(n):\n",
    "        number_of_paragraphs += len(data[book][\"translator_data\"][f\"translator_{i+1}\"][\"translator_paras\"])\n",
    "print(number_of_paragraphs)"
   ],
   "metadata": {
    "collapsed": false,
    "ExecuteTime": {
     "end_time": "2023-12-06T16:59:08.258879800Z",
     "start_time": "2023-12-06T16:59:08.253569600Z"
    }
   },
   "id": "5a34b568de28c02a"
  },
  {
   "cell_type": "markdown",
   "source": [
    "## Making two datasets - 3 Translations & 2 Translations"
   ],
   "metadata": {
    "collapsed": false
   },
   "id": "3b4e586ddd28fb79"
  },
  {
   "cell_type": "markdown",
   "source": [
    "### 3 Translations first"
   ],
   "metadata": {
    "collapsed": false
   },
   "id": "973b626de595d1b3"
  },
  {
   "cell_type": "code",
   "execution_count": 152,
   "outputs": [],
   "source": [
    "n = 2\n",
    "data_dict = {f\"translation_{i+1}\":[] for i in range(n)}\n",
    "n_translator_books = find_book_with_n_translators(data, n)\n",
    "for book in n_translator_books:\n",
    "    chosen_book = data[book]\n",
    "    translated_paragraphs = []\n",
    "    for i in range(n):\n",
    "        trans_paragraphs = chosen_book[\"translator_data\"][f\"translator_{i+1}\"][\"translator_paras\"]\n",
    "        data_dict[f\"translation_{i+1}\"] = data_dict.get(f\"translation_{i+1}\") + trans_paragraphs\n",
    "two_translation_df = pd.DataFrame(data_dict, columns=[f\"translation_{i+1}\" for i in range(n)])\n",
    "\n",
    "df_mask = np.ones(shape=two_translation_df.shape, dtype=int)\n",
    "for i, col in enumerate(two_translation_df.columns):\n",
    "    row_mask = two_translation_df[col].str.split().apply(lambda x: len(x) > 10)\n",
    "    df_mask[:, i] = row_mask\n",
    "df_mask = np.prod(df_mask, axis=1) % 2 == 1 # Only keep the values which have more than 10 words.\n",
    "\n",
    "two_translation_df = two_translation_df[df_mask]"
   ],
   "metadata": {
    "collapsed": false,
    "ExecuteTime": {
     "end_time": "2023-12-06T18:40:32.268425800Z",
     "start_time": "2023-12-06T18:40:32.035207500Z"
    }
   },
   "id": "c480b500655214c7"
  },
  {
   "cell_type": "code",
   "execution_count": 157,
   "outputs": [],
   "source": [
    "# train_validation, test = train_test_split(two_translation_df, test_size=0.2)\n",
    "# train, validation = train_test_split(train_validation, test_size=0.25)\n",
    "# \n",
    "# train.to_csv(\"prepared/train/par3/two_trans_train_untokenized.csv\", index=False)\n",
    "# validation.to_csv(\"prepared/validation/par3/two_trans_validation_untokenized.csv\", index=False)\n",
    "# test.to_csv(\"prepared/test/par3/two_trans_test_par3_untokeznied.csv\", index=False)"
   ],
   "metadata": {
    "collapsed": false,
    "ExecuteTime": {
     "end_time": "2023-12-06T18:41:39.311369200Z",
     "start_time": "2023-12-06T18:41:39.031097700Z"
    }
   },
   "id": "95a7b66b03a2a180"
  },
  {
   "cell_type": "code",
   "execution_count": null,
   "outputs": [],
   "source": [],
   "metadata": {
    "collapsed": false
   },
   "id": "d1576ff0cb7ef553"
  }
 ],
 "metadata": {
  "kernelspec": {
   "display_name": "Python 3",
   "language": "python",
   "name": "python3"
  },
  "language_info": {
   "codemirror_mode": {
    "name": "ipython",
    "version": 2
   },
   "file_extension": ".py",
   "mimetype": "text/x-python",
   "name": "python",
   "nbconvert_exporter": "python",
   "pygments_lexer": "ipython2",
   "version": "2.7.6"
  }
 },
 "nbformat": 4,
 "nbformat_minor": 5
}
