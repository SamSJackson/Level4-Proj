{
 "cells": [
  {
   "cell_type": "code",
   "execution_count": 1,
   "id": "initial_id",
   "metadata": {
    "ExecuteTime": {
     "end_time": "2023-12-04T12:49:38.500493700Z",
     "start_time": "2023-12-04T12:49:38.499498600Z"
    }
   },
   "outputs": [],
   "source": [
    "from sklearn.model_selection import train_test_split\n",
    "import pandas as pd, numpy as np\n",
    "import os, tqdm "
   ]
  },
  {
   "cell_type": "code",
   "execution_count": 2,
   "id": "cdb11e8328ec655b",
   "metadata": {
    "ExecuteTime": {
     "end_time": "2023-12-04T12:50:40.226911400Z",
     "start_time": "2023-12-04T12:49:38.713277600Z"
    },
    "collapsed": false
   },
   "outputs": [],
   "source": [
    "raw_data_path = \"raw/signalmedia-1m/m-articles.jsonl\"\n",
    "df = pd.read_json(raw_data_path, lines=True)"
   ]
  },
  {
   "cell_type": "markdown",
   "id": "ebe5376f4fccda55",
   "metadata": {
    "collapsed": false
   },
   "source": [
    "## Preparation Goals\n",
    "1. Remove sources with only 150 words in content\n",
    "2. Remove sources with any NaN values\n",
    "3. Introduce column called \"content-cut\"\n",
    "    - Content with only 100 tokens  \n",
    "4. Split into train & test\n",
    "    - No need for test yet but more useful to separate early on"
   ]
  },
  {
   "cell_type": "markdown",
   "id": "7ce941eb311bc0df",
   "metadata": {
    "collapsed": false
   },
   "source": [
    "### No NaN values, seen below"
   ]
  },
  {
   "cell_type": "code",
   "execution_count": 3,
   "id": "140fb60fb946140d",
   "metadata": {
    "ExecuteTime": {
     "end_time": "2023-12-04T12:50:40.627185800Z",
     "start_time": "2023-12-04T12:50:40.232920400Z"
    },
    "collapsed": false
   },
   "outputs": [
    {
     "data": {
      "text/plain": [
       "False"
      ]
     },
     "execution_count": 3,
     "metadata": {},
     "output_type": "execute_result"
    }
   ],
   "source": [
    "df.isnull().sum().any()"
   ]
  },
  {
   "cell_type": "code",
   "execution_count": 4,
   "id": "cc98b663ef9a508c",
   "metadata": {
    "ExecuteTime": {
     "end_time": "2023-12-04T12:50:56.271503400Z",
     "start_time": "2023-12-04T12:50:40.627185800Z"
    },
    "collapsed": false
   },
   "outputs": [
    {
     "name": "stderr",
     "output_type": "stream",
     "text": [
      "C:\\Users\\Sam\\anaconda3\\envs\\wmark-pt\\Lib\\site-packages\\numpy\\core\\fromnumeric.py:59: FutureWarning: 'Series.swapaxes' is deprecated and will be removed in a future version. Please use 'Series.transpose' instead.\n",
      "  return bound(*args, **kwds)\n",
      "100%|██████████████████████████████████████████████████████████████████████████████████| 10/10 [00:15<00:00,  1.54s/it]\n"
     ]
    }
   ],
   "source": [
    "# Completed in increments to not blow up my computer\n",
    "groups = 10\n",
    "split_up = np.split(df['content'], groups)\n",
    "word_counts = []\n",
    "\n",
    "for group in tqdm.tqdm(split_up):\n",
    "    lengths = list(map(lambda x : len(x.split()), group))\n",
    "    word_counts += lengths\n",
    "df['word-count'] = word_counts"
   ]
  },
  {
   "cell_type": "code",
   "execution_count": 5,
   "id": "8d34487f693775d3",
   "metadata": {
    "ExecuteTime": {
     "end_time": "2023-12-04T12:50:56.974632Z",
     "start_time": "2023-12-04T12:50:56.270502800Z"
    },
    "collapsed": false
   },
   "outputs": [],
   "source": [
    "df_more_than_150 = df[df['word-count'] > 150]"
   ]
  },
  {
   "cell_type": "code",
   "execution_count": 9,
   "id": "f529a541bb920884",
   "metadata": {
    "ExecuteTime": {
     "end_time": "2023-12-04T12:53:28.913026900Z",
     "start_time": "2023-12-04T12:52:50.328081400Z"
    },
    "collapsed": false
   },
   "outputs": [
    {
     "name": "stderr",
     "output_type": "stream",
     "text": [
      "C:\\Users\\Sam\\anaconda3\\envs\\wmark-pt\\Lib\\site-packages\\numpy\\core\\fromnumeric.py:59: FutureWarning: 'Series.swapaxes' is deprecated and will be removed in a future version. Please use 'Series.transpose' instead.\n",
      "  return bound(*args, **kwds)\n",
      "100%|██████████████████████████████████████████████████████████████████████████████████| 10/10 [00:37<00:00,  3.72s/it]\n",
      "C:\\Users\\Sam\\AppData\\Local\\Temp\\ipykernel_2856\\3373485034.py:11: SettingWithCopyWarning: \n",
      "A value is trying to be set on a copy of a slice from a DataFrame.\n",
      "Try using .loc[row_indexer,col_indexer] = value instead\n",
      "\n",
      "See the caveats in the documentation: https://pandas.pydata.org/pandas-docs/stable/user_guide/indexing.html#returning-a-view-versus-a-copy\n",
      "  df_more_than_150['content-to-sample'] = cut_off\n",
      "C:\\Users\\Sam\\AppData\\Local\\Temp\\ipykernel_2856\\3373485034.py:12: SettingWithCopyWarning: \n",
      "A value is trying to be set on a copy of a slice from a DataFrame.\n",
      "Try using .loc[row_indexer,col_indexer] = value instead\n",
      "\n",
      "See the caveats in the documentation: https://pandas.pydata.org/pandas-docs/stable/user_guide/indexing.html#returning-a-view-versus-a-copy\n",
      "  df_more_than_150['content-actual-ending'] = ending\n"
     ]
    }
   ],
   "source": [
    "groups = 10\n",
    "split_up = np.array_split(df_more_than_150['content'], groups)\n",
    "cut_off = []\n",
    "ending = []\n",
    "\n",
    "for group in tqdm.tqdm(split_up):\n",
    "    cut_off_group = list(map(lambda x : \" \".join(x.split()[:100]), group))\n",
    "    ending_group = list(map(lambda x : \" \".join(x.split()[100:]), group))\n",
    "    cut_off += cut_off_group\n",
    "    ending += ending_group\n",
    "df_more_than_150['content-to-sample'] = cut_off\n",
    "df_more_than_150['content-actual-ending'] = ending "
   ]
  },
  {
   "cell_type": "code",
   "execution_count": 10,
   "id": "450495eb2bf8577b",
   "metadata": {
    "ExecuteTime": {
     "end_time": "2023-12-04T12:54:26.858546900Z",
     "start_time": "2023-12-04T12:54:24.637155900Z"
    },
    "collapsed": false
   },
   "outputs": [],
   "source": [
    "df_more_than_150 = df_more_than_150[['id', 'title', 'source', 'content', 'word-count', 'content-actual-ending', 'content-to-sample', 'published']]"
   ]
  },
  {
   "cell_type": "code",
   "execution_count": 11,
   "id": "8c97fcbc725c12d8",
   "metadata": {
    "ExecuteTime": {
     "end_time": "2023-12-04T12:55:17.441528100Z",
     "start_time": "2023-12-04T12:54:27.772734900Z"
    },
    "collapsed": false
   },
   "outputs": [],
   "source": [
    "train_df, test_df = train_test_split(df_more_than_150, test_size=0.2)"
   ]
  },
  {
   "cell_type": "code",
   "execution_count": 12,
   "id": "d0cb1366a26227c2",
   "metadata": {
    "ExecuteTime": {
     "start_time": "2023-12-04T12:55:17.439317Z"
    },
    "collapsed": false
   },
   "outputs": [],
   "source": [
    "train_df.to_csv(\"prepared/train/training_untokenized.csv\")\n",
    "test_df.to_csv(\"prepared/test/test_untokenized.csv\")"
   ]
  }
 ],
 "metadata": {
  "kernelspec": {
   "display_name": "Python 3 (ipykernel)",
   "language": "python",
   "name": "python3"
  },
  "language_info": {
   "codemirror_mode": {
    "name": "ipython",
    "version": 3
   },
   "file_extension": ".py",
   "mimetype": "text/x-python",
   "name": "python",
   "nbconvert_exporter": "python",
   "pygments_lexer": "ipython3",
   "version": "3.11.5"
  }
 },
 "nbformat": 4,
 "nbformat_minor": 5
}
