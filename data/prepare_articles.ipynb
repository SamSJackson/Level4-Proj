{
 "cells": [
  {
   "cell_type": "code",
   "execution_count": 43,
   "id": "initial_id",
   "metadata": {
    "collapsed": true,
    "ExecuteTime": {
     "end_time": "2023-10-11T16:20:48.037710700Z",
     "start_time": "2023-10-11T16:20:48.017779200Z"
    }
   },
   "outputs": [],
   "source": [
    "from sklearn.model_selection import train_test_split\n",
    "import pandas as pd, numpy as np\n",
    "import os, tqdm "
   ]
  },
  {
   "cell_type": "code",
   "execution_count": 28,
   "outputs": [],
   "source": [
    "raw_data_path = \"raw/signalmedia-1m/sample-1M.jsonl\"\n",
    "df = pd.read_json(raw_data_path, lines=True)"
   ],
   "metadata": {
    "collapsed": false,
    "ExecuteTime": {
     "end_time": "2023-10-11T16:10:17.305509600Z",
     "start_time": "2023-10-11T16:09:55.273714400Z"
    }
   },
   "id": "cdb11e8328ec655b"
  },
  {
   "cell_type": "markdown",
   "source": [
    "## Preparation Goals\n",
    "1. Remove sources with only 150 words in content\n",
    "2. Remove sources with any NaN values\n",
    "3. Introduce column called \"content-cut\"\n",
    "    - Content with only 100 tokens  \n",
    "4. Split into train & test\n",
    "    - No need for test yet but more useful to separate early on"
   ],
   "metadata": {
    "collapsed": false
   },
   "id": "ebe5376f4fccda55"
  },
  {
   "cell_type": "markdown",
   "source": [
    "### No NaN values, seen below"
   ],
   "metadata": {
    "collapsed": false
   },
   "id": "7ce941eb311bc0df"
  },
  {
   "cell_type": "code",
   "execution_count": 69,
   "outputs": [
    {
     "data": {
      "text/plain": "False"
     },
     "execution_count": 69,
     "metadata": {},
     "output_type": "execute_result"
    }
   ],
   "source": [
    "df.isnull().sum().any()"
   ],
   "metadata": {
    "collapsed": false,
    "ExecuteTime": {
     "end_time": "2023-10-11T16:54:36.660235300Z",
     "start_time": "2023-10-11T16:54:36.632308700Z"
    }
   },
   "id": "140fb60fb946140d"
  },
  {
   "cell_type": "code",
   "execution_count": 70,
   "outputs": [
    {
     "name": "stderr",
     "output_type": "stream",
     "text": [
      "100%|██████████| 10/10 [00:23<00:00,  2.37s/it]\n"
     ]
    }
   ],
   "source": [
    "# Completed in increments to not blow up my computer\n",
    "groups = 10\n",
    "split_up = np.split(df['content'], groups)\n",
    "word_counts = []\n",
    "\n",
    "for group in tqdm.tqdm(split_up):\n",
    "    lengths = list(map(lambda x : len(x.split()), group))\n",
    "    word_counts += lengths\n",
    "df['word-count'] = word_counts"
   ],
   "metadata": {
    "collapsed": false,
    "ExecuteTime": {
     "end_time": "2023-10-11T16:55:06.114135100Z",
     "start_time": "2023-10-11T16:54:42.248446300Z"
    }
   },
   "id": "cc98b663ef9a508c"
  },
  {
   "cell_type": "code",
   "execution_count": 75,
   "outputs": [],
   "source": [
    "df_more_than_150 = df[df['word-count'] > 150]"
   ],
   "metadata": {
    "collapsed": false,
    "ExecuteTime": {
     "end_time": "2023-10-11T16:56:17.073720400Z",
     "start_time": "2023-10-11T16:56:16.887846200Z"
    }
   },
   "id": "8d34487f693775d3"
  },
  {
   "cell_type": "code",
   "execution_count": 76,
   "outputs": [
    {
     "name": "stderr",
     "output_type": "stream",
     "text": [
      "100%|██████████| 10/10 [00:29<00:00,  2.95s/it]\n",
      "C:\\Users\\samue\\AppData\\Local\\Temp\\ipykernel_11556\\1127748194.py:8: SettingWithCopyWarning: \n",
      "A value is trying to be set on a copy of a slice from a DataFrame.\n",
      "Try using .loc[row_indexer,col_indexer] = value instead\n",
      "\n",
      "See the caveats in the documentation: https://pandas.pydata.org/pandas-docs/stable/user_guide/indexing.html#returning-a-view-versus-a-copy\n",
      "  df_more_than_150['content-to-sample'] = cut_off\n"
     ]
    }
   ],
   "source": [
    "groups = 10\n",
    "split_up = np.array_split(df_more_than_150['content'], groups)\n",
    "cut_off = []\n",
    "\n",
    "for group in tqdm.tqdm(split_up):\n",
    "    cut_off_group = list(map(lambda x : \" \".join(x.split()[:100]), group))\n",
    "    cut_off += cut_off_group\n",
    "df_more_than_150['content-to-sample'] = cut_off"
   ],
   "metadata": {
    "collapsed": false,
    "ExecuteTime": {
     "end_time": "2023-10-11T16:56:47.811824500Z",
     "start_time": "2023-10-11T16:56:18.050435500Z"
    }
   },
   "id": "f529a541bb920884"
  },
  {
   "cell_type": "code",
   "execution_count": 77,
   "outputs": [],
   "source": [
    "df_more_than_150 = df_more_than_150[['id', 'title', 'media-type', 'source', 'content', 'word-count', 'content-to-sample', 'published']]"
   ],
   "metadata": {
    "collapsed": false,
    "ExecuteTime": {
     "end_time": "2023-10-11T16:56:59.341508400Z",
     "start_time": "2023-10-11T16:56:59.217544500Z"
    }
   },
   "id": "450495eb2bf8577b"
  },
  {
   "cell_type": "code",
   "execution_count": 78,
   "outputs": [],
   "source": [
    "train_df, test_df = train_test_split(df_more_than_150, test_size=0.2)"
   ],
   "metadata": {
    "collapsed": false,
    "ExecuteTime": {
     "end_time": "2023-10-11T16:57:01.557624700Z",
     "start_time": "2023-10-11T16:56:59.959190100Z"
    }
   },
   "id": "8c97fcbc725c12d8"
  },
  {
   "cell_type": "code",
   "execution_count": 79,
   "outputs": [],
   "source": [
    "# train_df.to_csv(\"prepared/train/training_untokenized.csv\")\n",
    "# test_df.to_csv(\"prepared/test/test_untokenized.csv\")"
   ],
   "metadata": {
    "collapsed": false,
    "ExecuteTime": {
     "end_time": "2023-10-11T16:58:19.399007600Z",
     "start_time": "2023-10-11T16:57:02.846997900Z"
    }
   },
   "id": "d0cb1366a26227c2"
  }
 ],
 "metadata": {
  "kernelspec": {
   "display_name": "Python 3",
   "language": "python",
   "name": "python3"
  },
  "language_info": {
   "codemirror_mode": {
    "name": "ipython",
    "version": 2
   },
   "file_extension": ".py",
   "mimetype": "text/x-python",
   "name": "python",
   "nbconvert_exporter": "python",
   "pygments_lexer": "ipython2",
   "version": "2.7.6"
  }
 },
 "nbformat": 4,
 "nbformat_minor": 5
}
